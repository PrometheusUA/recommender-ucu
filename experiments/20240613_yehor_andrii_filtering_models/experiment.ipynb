{
 "cells": [
  {
   "cell_type": "code",
   "execution_count": 1,
   "metadata": {},
   "outputs": [
    {
     "name": "stderr",
     "output_type": "stream",
     "text": [
      "[nltk_data] Downloading package stopwords to\n",
      "[nltk_data]     C:\\Users\\Andrii\\AppData\\Roaming\\nltk_data...\n",
      "[nltk_data]   Package stopwords is already up-to-date!\n"
     ]
    }
   ],
   "source": [
    "import sys\n",
    "sys.path.append('../../')\n",
    "\n",
    "import pandas as pd\n",
    "\n",
    "from src.utils import read_json_df\n",
    "from src.models.median_baseline import MedianBaselineModel\n",
    "from src.models.filtering_models import ContentBasedModel, UserUserCollaborativeFiltering, ItemItemCollaborativeFiltering"
   ]
  },
  {
   "cell_type": "code",
   "execution_count": 2,
   "metadata": {},
   "outputs": [],
   "source": [
    "review_df = read_json_df(\"../../data/yelp_dataset/yelp_academic_dataset_review.json\")\n",
    "user_df = read_json_df(\"../../data/yelp_dataset/yelp_academic_dataset_user.json\")\n",
    "business_df = read_json_df(\"../../data/yelp_dataset/yelp_academic_dataset_business.json\")"
   ]
  },
  {
   "cell_type": "code",
   "execution_count": 3,
   "metadata": {},
   "outputs": [],
   "source": [
    "review_df['date'] = pd.to_datetime(review_df['date'])"
   ]
  },
  {
   "cell_type": "markdown",
   "metadata": {},
   "source": [
    "Models are too heavy to be evaluated in timeseries k-fold mode, but we will run them in short evaluation mode with extended sample size:"
   ]
  },
  {
   "cell_type": "code",
   "execution_count": 4,
   "metadata": {},
   "outputs": [
    {
     "name": "stderr",
     "output_type": "stream",
     "text": [
      "Evaluation fold: 100%|██████████| 1/1 [00:06<00:00,  6.72s/it]\n"
     ]
    },
    {
     "data": {
      "text/plain": [
       "{'rmse': 1.249529911606761,\n",
       " 'mae': 0.87795,\n",
       " 'accuracy': 0.3838,\n",
       " 'f1': 0.25962287911737975,\n",
       " 'precision': 0.3220209009039584,\n",
       " 'recall': 0.26643535563929505,\n",
       " 'AP@1': 0.0002641310089804543,\n",
       " 'AP@3': 0.00035217467864060575,\n",
       " 'AP@K': 0.00029054410987849975,\n",
       " 'MAP@K': 0.00029549132560226064}"
      ]
     },
     "execution_count": 4,
     "metadata": {},
     "output_type": "execute_result"
    }
   ],
   "source": [
    "baseline = MedianBaselineModel()\n",
    "baseline.evaluate(review_df, user_df, business_df, short_eval=True, short_eval_train_samples=100_000)"
   ]
  },
  {
   "cell_type": "markdown",
   "metadata": {},
   "source": [
    "To use `ContentBasedModel`, you need to download Glove vectors. You can do this from their [official GitHub](https://github.com/stanfordnlp/GloVe). Then, you should put their location into the constructor's `glove_file` field."
   ]
  },
  {
   "cell_type": "code",
   "execution_count": 5,
   "metadata": {},
   "outputs": [
    {
     "name": "stderr",
     "output_type": "stream",
     "text": [
      "Evaluation fold:   0%|          | 0/1 [00:00<?, ?it/s]e:\\_UNIVER\\UCU\\2 sem\\Recommender\\recommender-ucu\\experiments\\20240613_yehor_andrii_filtering_models\\../..\\src\\models\\filtering_models.py:79: SettingWithCopyWarning: \n",
      "A value is trying to be set on a copy of a slice from a DataFrame.\n",
      "Try using .loc[row_indexer,col_indexer] = value instead\n",
      "\n",
      "See the caveats in the documentation: https://pandas.pydata.org/pandas-docs/stable/user_guide/indexing.html#returning-a-view-versus-a-copy\n",
      "  review_train_df['cleaned_text'] = review_train_df['text'].apply(self.preprocess_text)\n",
      "e:\\_UNIVER\\UCU\\2 sem\\Recommender\\recommender-ucu\\experiments\\20240613_yehor_andrii_filtering_models\\../..\\src\\models\\filtering_models.py:80: SettingWithCopyWarning: \n",
      "A value is trying to be set on a copy of a slice from a DataFrame.\n",
      "Try using .loc[row_indexer,col_indexer] = value instead\n",
      "\n",
      "See the caveats in the documentation: https://pandas.pydata.org/pandas-docs/stable/user_guide/indexing.html#returning-a-view-versus-a-copy\n",
      "  review_train_df['review_vector'] = review_train_df['cleaned_text'].apply(lambda x: self.get_average_vector(x))\n",
      "Evaluation fold: 100%|██████████| 1/1 [02:23<00:00, 143.72s/it]\n"
     ]
    },
    {
     "data": {
      "text/plain": [
       "{'rmse': 1.484986527397512,\n",
       " 'mae': 1.0330796737670898,\n",
       " 'accuracy': 0.395,\n",
       " 'f1': 0.12180232558139534,\n",
       " 'precision': 0.5787385554425228,\n",
       " 'recall': 0.20182461366598398,\n",
       " 'AP@1': 0.002717391304347826,\n",
       " 'AP@3': 0.0018115942028985507,\n",
       " 'AP@K': 0.0019021739130434783,\n",
       " 'MAP@K': 0.002156228433402346}"
      ]
     },
     "execution_count": 5,
     "metadata": {},
     "output_type": "execute_result"
    }
   ],
   "source": [
    "content_based_model = ContentBasedModel()\n",
    "content_based_model.evaluate(review_df, user_df, business_df, short_eval=True, short_eval_train_samples=10_000)"
   ]
  },
  {
   "cell_type": "code",
   "execution_count": 6,
   "metadata": {},
   "outputs": [
    {
     "name": "stderr",
     "output_type": "stream",
     "text": [
      "Evaluation fold: 100%|██████████| 1/1 [02:08<00:00, 128.31s/it]\n"
     ]
    },
    {
     "data": {
      "text/plain": [
       "{'rmse': 1.261766276928349,\n",
       " 'mae': 0.8906445228289543,\n",
       " 'accuracy': 0.3797,\n",
       " 'f1': 0.2602815263969901,\n",
       " 'precision': 0.31416293619158175,\n",
       " 'recall': 0.2659301220916676,\n",
       " 'AP@1': 0.003433703116745906,\n",
       " 'AP@3': 0.002377179080824089,\n",
       " 'AP@K': 0.00213946117274168,\n",
       " 'MAP@K': 0.002436398930059786}"
      ]
     },
     "execution_count": 6,
     "metadata": {},
     "output_type": "execute_result"
    }
   ],
   "source": [
    "user_user_model = UserUserCollaborativeFiltering()\n",
    "user_user_model.evaluate(review_df, user_df, business_df, short_eval=True, short_eval_train_samples=100_000)"
   ]
  },
  {
   "cell_type": "code",
   "execution_count": 7,
   "metadata": {},
   "outputs": [
    {
     "name": "stderr",
     "output_type": "stream",
     "text": [
      "Evaluation fold: 100%|██████████| 1/1 [02:02<00:00, 122.84s/it]\n"
     ]
    },
    {
     "data": {
      "text/plain": [
       "{'rmse': 1.2669250137465498,\n",
       " 'mae': 0.8958264909805461,\n",
       " 'accuracy': 0.3764,\n",
       " 'f1': 0.2553471057481868,\n",
       " 'precision': 0.30434387706939786,\n",
       " 'recall': 0.2621132698640677,\n",
       " 'AP@1': 0.0010565240359218173,\n",
       " 'AP@3': 0.0008804366966015144,\n",
       " 'AP@K': 0.0007395668251452721,\n",
       " 'MAP@K': 0.0007961139201234288}"
      ]
     },
     "execution_count": 7,
     "metadata": {},
     "output_type": "execute_result"
    }
   ],
   "source": [
    "item_item_model = ItemItemCollaborativeFiltering()\n",
    "item_item_model.evaluate(review_df, user_df, business_df, short_eval=True, short_eval_train_samples=100_000)"
   ]
  },
  {
   "cell_type": "code",
   "execution_count": null,
   "metadata": {},
   "outputs": [],
   "source": []
  }
 ],
 "metadata": {
  "kernelspec": {
   "display_name": ".venv",
   "language": "python",
   "name": "python3"
  },
  "language_info": {
   "codemirror_mode": {
    "name": "ipython",
    "version": 3
   },
   "file_extension": ".py",
   "mimetype": "text/x-python",
   "name": "python",
   "nbconvert_exporter": "python",
   "pygments_lexer": "ipython3",
   "version": "3.11.5"
  }
 },
 "nbformat": 4,
 "nbformat_minor": 2
}
