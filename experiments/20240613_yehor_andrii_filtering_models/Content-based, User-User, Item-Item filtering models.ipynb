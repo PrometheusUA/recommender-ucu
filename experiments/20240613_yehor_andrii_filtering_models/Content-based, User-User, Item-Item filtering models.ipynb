{
 "cells": [
  {
   "cell_type": "markdown",
   "id": "a3d44a7d",
   "metadata": {},
   "source": [
    "# Content-based filtering model"
   ]
  },
  {
   "cell_type": "code",
   "execution_count": 1,
   "id": "b053cb2d",
   "metadata": {},
   "outputs": [
    {
     "name": "stderr",
     "output_type": "stream",
     "text": [
      "[nltk_data] Downloading package stopwords to\n",
      "[nltk_data]     C:\\Users\\Andrii\\AppData\\Roaming\\nltk_data...\n",
      "[nltk_data]   Package stopwords is already up-to-date!\n"
     ]
    }
   ],
   "source": [
    "import re\n",
    "import string\n",
    "import sys\n",
    "sys.path.append('../../')\n",
    "\n",
    "from os.path import join as pjoin\n",
    "\n",
    "import pandas as pd\n",
    "import numpy as np\n",
    "import faiss\n",
    "import nltk\n",
    "\n",
    "from sklearn.metrics.pairwise import cosine_similarity\n",
    "from nltk.corpus import stopwords\n",
    "from scipy.sparse import csr_matrix, coo_matrix\n",
    "from sklearn.decomposition import TruncatedSVD\n",
    "\n",
    "from src.utils import read_json_df\n",
    "\n",
    "nltk.download('stopwords')"
   ]
  },
  {
   "cell_type": "code",
   "execution_count": 2,
   "id": "6181f308",
   "metadata": {},
   "outputs": [],
   "source": [
    "DATA_PATH = \"../../data/\"\n",
    "DATASET_PATH = pjoin(DATA_PATH, \"yelp_dataset/\")"
   ]
  },
  {
   "cell_type": "code",
   "execution_count": 3,
   "id": "553ac57e",
   "metadata": {},
   "outputs": [],
   "source": [
    "review_df = read_json_df(pjoin(DATASET_PATH, \"yelp_academic_dataset_review.json\"))"
   ]
  },
  {
   "cell_type": "code",
   "execution_count": 4,
   "id": "58c7c83d",
   "metadata": {},
   "outputs": [],
   "source": [
    "def preprocess_text(text):\n",
    "    text = re.sub(f'[{re.escape(string.punctuation)}]', '', text)\n",
    "    text = text.lower()\n",
    "    text = re.sub(r'\\d+', '', text)\n",
    "    stop_words = set(stopwords.words(\"english\"))\n",
    "    word_tokens = text.split()\n",
    "    filtered_text = [word for word in word_tokens if word not in stop_words]\n",
    "    filtered_text = ' '.join(filtered_text)\n",
    "    return filtered_text"
   ]
  },
  {
   "cell_type": "code",
   "execution_count": 5,
   "id": "c469c6d9",
   "metadata": {},
   "outputs": [],
   "source": [
    "review_df['cleaned_text'] = review_df['text'].apply(preprocess_text)"
   ]
  },
  {
   "cell_type": "code",
   "execution_count": 6,
   "id": "df037f82",
   "metadata": {},
   "outputs": [],
   "source": [
    "def load_glove_vectors(glove_file):\n",
    "    embeddings_index = {}\n",
    "    with open(glove_file, 'r', encoding='utf-8') as f:\n",
    "        for line in f:\n",
    "            values = line.split()\n",
    "            word = values[0]\n",
    "            vector = np.asarray(values[1:], dtype='float32')\n",
    "            embeddings_index[word] = vector\n",
    "    return embeddings_index"
   ]
  },
  {
   "cell_type": "code",
   "execution_count": 7,
   "id": "109a0486",
   "metadata": {},
   "outputs": [],
   "source": [
    "glove_file = 'glove.6B.100d.txt'\n",
    "embeddings_index = load_glove_vectors(pjoin(DATA_PATH, glove_file))"
   ]
  },
  {
   "cell_type": "code",
   "execution_count": 8,
   "id": "8e72ba6d",
   "metadata": {},
   "outputs": [],
   "source": [
    "def get_average_vector(text, embeddings_index):\n",
    "    words = text.split()\n",
    "    word_vectors = [embeddings_index[word] for word in words if word in embeddings_index]\n",
    "    if word_vectors:\n",
    "        return np.mean(word_vectors, axis=0)\n",
    "    else:\n",
    "        some_key = list(embeddings_index.keys())[0]\n",
    "        return np.zeros(embeddings_index[some_key].shape)"
   ]
  },
  {
   "cell_type": "code",
   "execution_count": 9,
   "id": "39f57b80",
   "metadata": {},
   "outputs": [],
   "source": [
    "review_df['review_vector'] = review_df['cleaned_text'].apply(lambda x: get_average_vector(x, embeddings_index))"
   ]
  },
  {
   "cell_type": "code",
   "execution_count": 10,
   "id": "6d70ccb6",
   "metadata": {},
   "outputs": [
    {
     "ename": "KeyboardInterrupt",
     "evalue": "",
     "output_type": "error",
     "traceback": [
      "\u001b[1;31m---------------------------------------------------------------------------\u001b[0m",
      "\u001b[1;31mKeyboardInterrupt\u001b[0m                         Traceback (most recent call last)",
      "Cell \u001b[1;32mIn[10], line 1\u001b[0m\n\u001b[1;32m----> 1\u001b[0m review_df_filtered \u001b[38;5;241m=\u001b[39m review_df[\u001b[43mreview_df\u001b[49m\u001b[43m[\u001b[49m\u001b[38;5;124;43m'\u001b[39;49m\u001b[38;5;124;43mreview_vector\u001b[39;49m\u001b[38;5;124;43m'\u001b[39;49m\u001b[43m]\u001b[49m\u001b[38;5;241;43m.\u001b[39;49m\u001b[43mapply\u001b[49m\u001b[43m(\u001b[49m\u001b[38;5;28;43;01mlambda\u001b[39;49;00m\u001b[43m \u001b[49m\u001b[43mx\u001b[49m\u001b[43m:\u001b[49m\u001b[43m \u001b[49m\u001b[38;5;129;43;01mnot\u001b[39;49;00m\u001b[43m \u001b[49m\u001b[43mnp\u001b[49m\u001b[38;5;241;43m.\u001b[39;49m\u001b[43mallclose\u001b[49m\u001b[43m(\u001b[49m\u001b[43mnp\u001b[49m\u001b[38;5;241;43m.\u001b[39;49m\u001b[43mzeros\u001b[49m\u001b[43m(\u001b[49m\u001b[43membeddings_index\u001b[49m\u001b[43m[\u001b[49m\u001b[38;5;28;43mlist\u001b[39;49m\u001b[43m(\u001b[49m\u001b[43membeddings_index\u001b[49m\u001b[38;5;241;43m.\u001b[39;49m\u001b[43mkeys\u001b[49m\u001b[43m(\u001b[49m\u001b[43m)\u001b[49m\u001b[43m)\u001b[49m\u001b[43m[\u001b[49m\u001b[38;5;241;43m0\u001b[39;49m\u001b[43m]\u001b[49m\u001b[43m]\u001b[49m\u001b[38;5;241;43m.\u001b[39;49m\u001b[43mshape\u001b[49m\u001b[43m)\u001b[49m\u001b[43m,\u001b[49m\u001b[43m \u001b[49m\u001b[43mx\u001b[49m\u001b[43m)\u001b[49m\u001b[43m)\u001b[49m]\n",
      "File \u001b[1;32me:\\_UNIVER\\UCU\\2 sem\\Recommender\\recommender-ucu\\.venv\\Lib\\site-packages\\pandas\\core\\series.py:4924\u001b[0m, in \u001b[0;36mSeries.apply\u001b[1;34m(self, func, convert_dtype, args, by_row, **kwargs)\u001b[0m\n\u001b[0;32m   4789\u001b[0m \u001b[38;5;28;01mdef\u001b[39;00m \u001b[38;5;21mapply\u001b[39m(\n\u001b[0;32m   4790\u001b[0m     \u001b[38;5;28mself\u001b[39m,\n\u001b[0;32m   4791\u001b[0m     func: AggFuncType,\n\u001b[1;32m   (...)\u001b[0m\n\u001b[0;32m   4796\u001b[0m     \u001b[38;5;241m*\u001b[39m\u001b[38;5;241m*\u001b[39mkwargs,\n\u001b[0;32m   4797\u001b[0m ) \u001b[38;5;241m-\u001b[39m\u001b[38;5;241m>\u001b[39m DataFrame \u001b[38;5;241m|\u001b[39m Series:\n\u001b[0;32m   4798\u001b[0m \u001b[38;5;250m    \u001b[39m\u001b[38;5;124;03m\"\"\"\u001b[39;00m\n\u001b[0;32m   4799\u001b[0m \u001b[38;5;124;03m    Invoke function on values of Series.\u001b[39;00m\n\u001b[0;32m   4800\u001b[0m \n\u001b[1;32m   (...)\u001b[0m\n\u001b[0;32m   4915\u001b[0m \u001b[38;5;124;03m    dtype: float64\u001b[39;00m\n\u001b[0;32m   4916\u001b[0m \u001b[38;5;124;03m    \"\"\"\u001b[39;00m\n\u001b[0;32m   4917\u001b[0m     \u001b[38;5;28;01mreturn\u001b[39;00m \u001b[43mSeriesApply\u001b[49m\u001b[43m(\u001b[49m\n\u001b[0;32m   4918\u001b[0m \u001b[43m        \u001b[49m\u001b[38;5;28;43mself\u001b[39;49m\u001b[43m,\u001b[49m\n\u001b[0;32m   4919\u001b[0m \u001b[43m        \u001b[49m\u001b[43mfunc\u001b[49m\u001b[43m,\u001b[49m\n\u001b[0;32m   4920\u001b[0m \u001b[43m        \u001b[49m\u001b[43mconvert_dtype\u001b[49m\u001b[38;5;241;43m=\u001b[39;49m\u001b[43mconvert_dtype\u001b[49m\u001b[43m,\u001b[49m\n\u001b[0;32m   4921\u001b[0m \u001b[43m        \u001b[49m\u001b[43mby_row\u001b[49m\u001b[38;5;241;43m=\u001b[39;49m\u001b[43mby_row\u001b[49m\u001b[43m,\u001b[49m\n\u001b[0;32m   4922\u001b[0m \u001b[43m        \u001b[49m\u001b[43margs\u001b[49m\u001b[38;5;241;43m=\u001b[39;49m\u001b[43margs\u001b[49m\u001b[43m,\u001b[49m\n\u001b[0;32m   4923\u001b[0m \u001b[43m        \u001b[49m\u001b[43mkwargs\u001b[49m\u001b[38;5;241;43m=\u001b[39;49m\u001b[43mkwargs\u001b[49m\u001b[43m,\u001b[49m\n\u001b[1;32m-> 4924\u001b[0m \u001b[43m    \u001b[49m\u001b[43m)\u001b[49m\u001b[38;5;241;43m.\u001b[39;49m\u001b[43mapply\u001b[49m\u001b[43m(\u001b[49m\u001b[43m)\u001b[49m\n",
      "File \u001b[1;32me:\\_UNIVER\\UCU\\2 sem\\Recommender\\recommender-ucu\\.venv\\Lib\\site-packages\\pandas\\core\\apply.py:1427\u001b[0m, in \u001b[0;36mSeriesApply.apply\u001b[1;34m(self)\u001b[0m\n\u001b[0;32m   1424\u001b[0m     \u001b[38;5;28;01mreturn\u001b[39;00m \u001b[38;5;28mself\u001b[39m\u001b[38;5;241m.\u001b[39mapply_compat()\n\u001b[0;32m   1426\u001b[0m \u001b[38;5;66;03m# self.func is Callable\u001b[39;00m\n\u001b[1;32m-> 1427\u001b[0m \u001b[38;5;28;01mreturn\u001b[39;00m \u001b[38;5;28;43mself\u001b[39;49m\u001b[38;5;241;43m.\u001b[39;49m\u001b[43mapply_standard\u001b[49m\u001b[43m(\u001b[49m\u001b[43m)\u001b[49m\n",
      "File \u001b[1;32me:\\_UNIVER\\UCU\\2 sem\\Recommender\\recommender-ucu\\.venv\\Lib\\site-packages\\pandas\\core\\apply.py:1507\u001b[0m, in \u001b[0;36mSeriesApply.apply_standard\u001b[1;34m(self)\u001b[0m\n\u001b[0;32m   1501\u001b[0m \u001b[38;5;66;03m# row-wise access\u001b[39;00m\n\u001b[0;32m   1502\u001b[0m \u001b[38;5;66;03m# apply doesn't have a `na_action` keyword and for backward compat reasons\u001b[39;00m\n\u001b[0;32m   1503\u001b[0m \u001b[38;5;66;03m# we need to give `na_action=\"ignore\"` for categorical data.\u001b[39;00m\n\u001b[0;32m   1504\u001b[0m \u001b[38;5;66;03m# TODO: remove the `na_action=\"ignore\"` when that default has been changed in\u001b[39;00m\n\u001b[0;32m   1505\u001b[0m \u001b[38;5;66;03m#  Categorical (GH51645).\u001b[39;00m\n\u001b[0;32m   1506\u001b[0m action \u001b[38;5;241m=\u001b[39m \u001b[38;5;124m\"\u001b[39m\u001b[38;5;124mignore\u001b[39m\u001b[38;5;124m\"\u001b[39m \u001b[38;5;28;01mif\u001b[39;00m \u001b[38;5;28misinstance\u001b[39m(obj\u001b[38;5;241m.\u001b[39mdtype, CategoricalDtype) \u001b[38;5;28;01melse\u001b[39;00m \u001b[38;5;28;01mNone\u001b[39;00m\n\u001b[1;32m-> 1507\u001b[0m mapped \u001b[38;5;241m=\u001b[39m \u001b[43mobj\u001b[49m\u001b[38;5;241;43m.\u001b[39;49m\u001b[43m_map_values\u001b[49m\u001b[43m(\u001b[49m\n\u001b[0;32m   1508\u001b[0m \u001b[43m    \u001b[49m\u001b[43mmapper\u001b[49m\u001b[38;5;241;43m=\u001b[39;49m\u001b[43mcurried\u001b[49m\u001b[43m,\u001b[49m\u001b[43m \u001b[49m\u001b[43mna_action\u001b[49m\u001b[38;5;241;43m=\u001b[39;49m\u001b[43maction\u001b[49m\u001b[43m,\u001b[49m\u001b[43m \u001b[49m\u001b[43mconvert\u001b[49m\u001b[38;5;241;43m=\u001b[39;49m\u001b[38;5;28;43mself\u001b[39;49m\u001b[38;5;241;43m.\u001b[39;49m\u001b[43mconvert_dtype\u001b[49m\n\u001b[0;32m   1509\u001b[0m \u001b[43m\u001b[49m\u001b[43m)\u001b[49m\n\u001b[0;32m   1511\u001b[0m \u001b[38;5;28;01mif\u001b[39;00m \u001b[38;5;28mlen\u001b[39m(mapped) \u001b[38;5;129;01mand\u001b[39;00m \u001b[38;5;28misinstance\u001b[39m(mapped[\u001b[38;5;241m0\u001b[39m], ABCSeries):\n\u001b[0;32m   1512\u001b[0m     \u001b[38;5;66;03m# GH#43986 Need to do list(mapped) in order to get treated as nested\u001b[39;00m\n\u001b[0;32m   1513\u001b[0m     \u001b[38;5;66;03m#  See also GH#25959 regarding EA support\u001b[39;00m\n\u001b[0;32m   1514\u001b[0m     \u001b[38;5;28;01mreturn\u001b[39;00m obj\u001b[38;5;241m.\u001b[39m_constructor_expanddim(\u001b[38;5;28mlist\u001b[39m(mapped), index\u001b[38;5;241m=\u001b[39mobj\u001b[38;5;241m.\u001b[39mindex)\n",
      "File \u001b[1;32me:\\_UNIVER\\UCU\\2 sem\\Recommender\\recommender-ucu\\.venv\\Lib\\site-packages\\pandas\\core\\base.py:921\u001b[0m, in \u001b[0;36mIndexOpsMixin._map_values\u001b[1;34m(self, mapper, na_action, convert)\u001b[0m\n\u001b[0;32m    918\u001b[0m \u001b[38;5;28;01mif\u001b[39;00m \u001b[38;5;28misinstance\u001b[39m(arr, ExtensionArray):\n\u001b[0;32m    919\u001b[0m     \u001b[38;5;28;01mreturn\u001b[39;00m arr\u001b[38;5;241m.\u001b[39mmap(mapper, na_action\u001b[38;5;241m=\u001b[39mna_action)\n\u001b[1;32m--> 921\u001b[0m \u001b[38;5;28;01mreturn\u001b[39;00m \u001b[43malgorithms\u001b[49m\u001b[38;5;241;43m.\u001b[39;49m\u001b[43mmap_array\u001b[49m\u001b[43m(\u001b[49m\u001b[43marr\u001b[49m\u001b[43m,\u001b[49m\u001b[43m \u001b[49m\u001b[43mmapper\u001b[49m\u001b[43m,\u001b[49m\u001b[43m \u001b[49m\u001b[43mna_action\u001b[49m\u001b[38;5;241;43m=\u001b[39;49m\u001b[43mna_action\u001b[49m\u001b[43m,\u001b[49m\u001b[43m \u001b[49m\u001b[43mconvert\u001b[49m\u001b[38;5;241;43m=\u001b[39;49m\u001b[43mconvert\u001b[49m\u001b[43m)\u001b[49m\n",
      "File \u001b[1;32me:\\_UNIVER\\UCU\\2 sem\\Recommender\\recommender-ucu\\.venv\\Lib\\site-packages\\pandas\\core\\algorithms.py:1743\u001b[0m, in \u001b[0;36mmap_array\u001b[1;34m(arr, mapper, na_action, convert)\u001b[0m\n\u001b[0;32m   1741\u001b[0m values \u001b[38;5;241m=\u001b[39m arr\u001b[38;5;241m.\u001b[39mastype(\u001b[38;5;28mobject\u001b[39m, copy\u001b[38;5;241m=\u001b[39m\u001b[38;5;28;01mFalse\u001b[39;00m)\n\u001b[0;32m   1742\u001b[0m \u001b[38;5;28;01mif\u001b[39;00m na_action \u001b[38;5;129;01mis\u001b[39;00m \u001b[38;5;28;01mNone\u001b[39;00m:\n\u001b[1;32m-> 1743\u001b[0m     \u001b[38;5;28;01mreturn\u001b[39;00m \u001b[43mlib\u001b[49m\u001b[38;5;241;43m.\u001b[39;49m\u001b[43mmap_infer\u001b[49m\u001b[43m(\u001b[49m\u001b[43mvalues\u001b[49m\u001b[43m,\u001b[49m\u001b[43m \u001b[49m\u001b[43mmapper\u001b[49m\u001b[43m,\u001b[49m\u001b[43m \u001b[49m\u001b[43mconvert\u001b[49m\u001b[38;5;241;43m=\u001b[39;49m\u001b[43mconvert\u001b[49m\u001b[43m)\u001b[49m\n\u001b[0;32m   1744\u001b[0m \u001b[38;5;28;01melse\u001b[39;00m:\n\u001b[0;32m   1745\u001b[0m     \u001b[38;5;28;01mreturn\u001b[39;00m lib\u001b[38;5;241m.\u001b[39mmap_infer_mask(\n\u001b[0;32m   1746\u001b[0m         values, mapper, mask\u001b[38;5;241m=\u001b[39misna(values)\u001b[38;5;241m.\u001b[39mview(np\u001b[38;5;241m.\u001b[39muint8), convert\u001b[38;5;241m=\u001b[39mconvert\n\u001b[0;32m   1747\u001b[0m     )\n",
      "File \u001b[1;32mlib.pyx:2972\u001b[0m, in \u001b[0;36mpandas._libs.lib.map_infer\u001b[1;34m()\u001b[0m\n",
      "Cell \u001b[1;32mIn[10], line 1\u001b[0m, in \u001b[0;36m<lambda>\u001b[1;34m(x)\u001b[0m\n\u001b[1;32m----> 1\u001b[0m review_df_filtered \u001b[38;5;241m=\u001b[39m review_df[review_df[\u001b[38;5;124m'\u001b[39m\u001b[38;5;124mreview_vector\u001b[39m\u001b[38;5;124m'\u001b[39m]\u001b[38;5;241m.\u001b[39mapply(\u001b[38;5;28;01mlambda\u001b[39;00m x: \u001b[38;5;129;01mnot\u001b[39;00m \u001b[43mnp\u001b[49m\u001b[38;5;241;43m.\u001b[39;49m\u001b[43mallclose\u001b[49m\u001b[43m(\u001b[49m\u001b[43mnp\u001b[49m\u001b[38;5;241;43m.\u001b[39;49m\u001b[43mzeros\u001b[49m\u001b[43m(\u001b[49m\u001b[43membeddings_index\u001b[49m\u001b[43m[\u001b[49m\u001b[38;5;28;43mlist\u001b[39;49m\u001b[43m(\u001b[49m\u001b[43membeddings_index\u001b[49m\u001b[38;5;241;43m.\u001b[39;49m\u001b[43mkeys\u001b[49m\u001b[43m(\u001b[49m\u001b[43m)\u001b[49m\u001b[43m)\u001b[49m\u001b[43m[\u001b[49m\u001b[38;5;241;43m0\u001b[39;49m\u001b[43m]\u001b[49m\u001b[43m]\u001b[49m\u001b[38;5;241;43m.\u001b[39;49m\u001b[43mshape\u001b[49m\u001b[43m)\u001b[49m\u001b[43m,\u001b[49m\u001b[43m \u001b[49m\u001b[43mx\u001b[49m\u001b[43m)\u001b[49m)]\n",
      "File \u001b[1;32me:\\_UNIVER\\UCU\\2 sem\\Recommender\\recommender-ucu\\.venv\\Lib\\site-packages\\numpy\\core\\numeric.py:2166\u001b[0m, in \u001b[0;36m_allclose_dispatcher\u001b[1;34m(a, b, rtol, atol, equal_nan)\u001b[0m\n\u001b[0;32m   2160\u001b[0m     \u001b[38;5;28;01mreturn\u001b[39;00m eye(n, dtype\u001b[38;5;241m=\u001b[39mdtype, like\u001b[38;5;241m=\u001b[39mlike)\n\u001b[0;32m   2163\u001b[0m _identity_with_like \u001b[38;5;241m=\u001b[39m array_function_dispatch()(identity)\n\u001b[1;32m-> 2166\u001b[0m \u001b[38;5;28;01mdef\u001b[39;00m \u001b[38;5;21m_allclose_dispatcher\u001b[39m(a, b, rtol\u001b[38;5;241m=\u001b[39m\u001b[38;5;28;01mNone\u001b[39;00m, atol\u001b[38;5;241m=\u001b[39m\u001b[38;5;28;01mNone\u001b[39;00m, equal_nan\u001b[38;5;241m=\u001b[39m\u001b[38;5;28;01mNone\u001b[39;00m):\n\u001b[0;32m   2167\u001b[0m     \u001b[38;5;28;01mreturn\u001b[39;00m (a, b)\n\u001b[0;32m   2170\u001b[0m \u001b[38;5;129m@array_function_dispatch\u001b[39m(_allclose_dispatcher)\n\u001b[0;32m   2171\u001b[0m \u001b[38;5;28;01mdef\u001b[39;00m \u001b[38;5;21mallclose\u001b[39m(a, b, rtol\u001b[38;5;241m=\u001b[39m\u001b[38;5;241m1.e-5\u001b[39m, atol\u001b[38;5;241m=\u001b[39m\u001b[38;5;241m1.e-8\u001b[39m, equal_nan\u001b[38;5;241m=\u001b[39m\u001b[38;5;28;01mFalse\u001b[39;00m):\n",
      "\u001b[1;31mKeyboardInterrupt\u001b[0m: "
     ]
    }
   ],
   "source": [
    "review_df_filtered = review_df[review_df['review_vector'].apply(lambda x: not np.allclose(np.zeros(embeddings_index[list(embeddings_index.keys())[0]].shape), x))]"
   ]
  },
  {
   "cell_type": "code",
   "execution_count": 12,
   "id": "3ae84769",
   "metadata": {},
   "outputs": [],
   "source": [
    "restaurant_vectors = review_df.groupby('business_id')['review_vector'].apply(lambda x: np.mean(np.vstack(x.tolist()), axis=0))"
   ]
  },
  {
   "cell_type": "code",
   "execution_count": 13,
   "id": "ec044cbb",
   "metadata": {},
   "outputs": [
    {
     "data": {
      "text/plain": [
       "business_id\n",
       "---kPU91CF4Lq2-WlRu9Lw    [-0.21569727, 0.25217083, 0.2632159, -0.253070...\n",
       "--0iUa4sNDFiZFrAdIWhZQ    [-0.108681165, 0.20706482, 0.23127718, -0.1635...\n",
       "--30_8IhuyMHbSOcNWd6DQ    [0.086936384, 0.19277348, 0.14629911, -0.14296...\n",
       "--7PUidqRWpRSpXebiyxTg    [-0.17370927, 0.23072208, 0.1910035, -0.147103...\n",
       "--7jw19RH9JKXgFohspgQw    [-0.030771453, 0.20263673, 0.13858281, -0.0736...\n",
       "                                                ...                        \n",
       "zznZqH9CiAznbkV6fXyHWA    [-0.16085109, 0.27624714, 0.19358303, -0.19220...\n",
       "zztOG2cKm87I6Iw_tleZsQ    [-0.03555422, 0.13701583, 0.14510758, 0.026494...\n",
       "zzu6_r3DxBJuXcjnOYVdTw    [-0.11649682, 0.2802446, 0.18056643, -0.085451...\n",
       "zzw66H6hVjXQEt0Js3Mo4A    [-0.06203431, 0.25265533, 0.26369348, -0.11718...\n",
       "zzyx5x0Z7xXWWvWnZFuxlQ    [-0.10935566, 0.21559715, 0.19723853, -0.15965...\n",
       "Name: review_vector, Length: 150346, dtype: object"
      ]
     },
     "execution_count": 13,
     "metadata": {},
     "output_type": "execute_result"
    }
   ],
   "source": [
    "restaurant_vectors"
   ]
  },
  {
   "cell_type": "code",
   "execution_count": 14,
   "id": "a9f52eb0",
   "metadata": {},
   "outputs": [],
   "source": [
    "user_vectors = review_df.groupby('user_id')['review_vector'].apply(lambda x: np.mean(x.tolist(), axis=0))"
   ]
  },
  {
   "cell_type": "code",
   "execution_count": 15,
   "id": "d089d202",
   "metadata": {},
   "outputs": [
    {
     "data": {
      "text/plain": [
       "user_id\n",
       "---1lKK3aKOuomHnwAkAow    [-0.18244882, 0.407449, 0.27219525, -0.1172297...\n",
       "---2PmXbF47D870stH1jqA    [-0.19804399, 0.26012298, 0.158197, -0.1401182...\n",
       "---UgP94gokyCDuB5zUssA    [-0.02868935, 0.20637617, 0.292074, -0.1764314...\n",
       "---fa6ZK37T9NjkGKI4oSg    [0.028195942, 0.11133146, 0.08044941, -0.03462...\n",
       "---r61b7EpVPkb4UVme5tA    [-0.10271549, 0.18715751, 0.2808567, -0.157469...\n",
       "                                                ...                        \n",
       "zzz-M4QvkEpUWWPL9RTzLA    [-0.13413207, 0.2519072, 0.15054464, -0.180143...\n",
       "zzzCg-_lpyYE82TlJCdwdw    [-0.0790559, 0.312502, 0.4163658, -0.28613174,...\n",
       "zzzGgfvrSJ4AQeKtcgocIw    [-0.113682896, 0.27475154, 0.23168959, -0.1276...\n",
       "zzzMBVS73g3ZJ7qL8JyhiA    [-0.009016817, 0.044815574, 0.20541243, -0.207...\n",
       "zzzUFM4HFe0SFG0bPjntQA    [-0.14672713, 0.28231618, 0.19622217, -0.16690...\n",
       "Name: review_vector, Length: 1987929, dtype: object"
      ]
     },
     "execution_count": 15,
     "metadata": {},
     "output_type": "execute_result"
    }
   ],
   "source": [
    "user_vectors"
   ]
  },
  {
   "cell_type": "code",
   "execution_count": 16,
   "id": "b2dd9d63",
   "metadata": {},
   "outputs": [],
   "source": [
    "def recommend_restaurants(user_id, user_vectors, restaurant_vectors, reviews_df, top_n=5):\n",
    "    user_vector = user_vectors[user_id]\n",
    "    visited_restaurants = reviews_df[reviews_df['user_id'] == user_id]['business_id'].unique()\n",
    "    unvisited_restaurant_vectors = restaurant_vectors[~restaurant_vectors.index.isin(visited_restaurants)]\n",
    "    similarities = cosine_similarity([user_vector], unvisited_restaurant_vectors.tolist())\n",
    "    similarity_scores = list(zip(unvisited_restaurant_vectors.index, similarities[0]))\n",
    "    similarity_scores.sort(key=lambda x: x[1], reverse=True)\n",
    "    return [restaurant for restaurant, score in similarity_scores[:top_n]]"
   ]
  },
  {
   "cell_type": "code",
   "execution_count": 17,
   "id": "b11b807c",
   "metadata": {},
   "outputs": [
    {
     "name": "stdout",
     "output_type": "stream",
     "text": [
      "['b92dSNftvCSPWLC4ZgNXCg', 'ztnYPn2w0R4lEJL266apzg', 'ftpaEvx7cMJmHBdQKd4y-g', 'ZU3LP5gHs3UybWmh9J13NA', '0kEyHYpI6ixtq87LV6I1Aw']\n"
     ]
    }
   ],
   "source": [
    "user_id = 'bcjbaE6dDog4jkNY91ncLQ'\n",
    "recommended_restaurants = recommend_restaurants(user_id, user_vectors, restaurant_vectors, review_df)\n",
    "print(recommended_restaurants)"
   ]
  },
  {
   "cell_type": "markdown",
   "id": "7fe540b2",
   "metadata": {},
   "source": [
    "# User-user collaborative filtering model"
   ]
  },
  {
   "cell_type": "code",
   "execution_count": 4,
   "id": "ec8a5ed8",
   "metadata": {},
   "outputs": [],
   "source": [
    "user_df = read_json_df(pjoin(DATASET_PATH, \"yelp_academic_dataset_user.json\"))"
   ]
  },
  {
   "cell_type": "code",
   "execution_count": 5,
   "id": "1ed2458f",
   "metadata": {},
   "outputs": [],
   "source": [
    "filtered_user_df = user_df  # user_df[user_df['review_count'] >= 10]"
   ]
  },
  {
   "cell_type": "code",
   "execution_count": 6,
   "id": "108b3b72",
   "metadata": {},
   "outputs": [],
   "source": [
    "review_df_filtered = review_df.merge(filtered_user_df[['user_id']], on='user_id', how='inner')"
   ]
  },
  {
   "cell_type": "code",
   "execution_count": 7,
   "id": "4a31d248",
   "metadata": {},
   "outputs": [],
   "source": [
    "business_df = read_json_df(pjoin(DATASET_PATH, \"yelp_academic_dataset_business.json\"))"
   ]
  },
  {
   "cell_type": "code",
   "execution_count": 8,
   "id": "594058c0",
   "metadata": {},
   "outputs": [],
   "source": [
    "filtered_business_df = business_df  # [business_df[\"review_count\"] >= 10]"
   ]
  },
  {
   "cell_type": "code",
   "execution_count": 9,
   "id": "5ed16789",
   "metadata": {},
   "outputs": [],
   "source": [
    "review_df_filtered = review_df_filtered.merge(filtered_business_df[['business_id']], on='business_id', how='inner')"
   ]
  },
  {
   "cell_type": "code",
   "execution_count": 10,
   "id": "4e253f6f",
   "metadata": {},
   "outputs": [],
   "source": [
    "review_df_filtered_sample = review_df_filtered # review_df_filtered.sample(frac=0.1, random_state=42)"
   ]
  },
  {
   "cell_type": "code",
   "execution_count": 11,
   "id": "a7ca3d83",
   "metadata": {},
   "outputs": [],
   "source": [
    "user_ids = review_df_filtered_sample['user_id'].astype('category').cat.codes\n",
    "business_ids = review_df_filtered_sample['business_id'].astype('category').cat.codes\n",
    "stars = review_df_filtered_sample['stars']\n",
    "\n",
    "user_item_sparse_matrix = coo_matrix((stars, (user_ids, business_ids)))\n",
    "# In case of (user_ids, business_ids) pair repeating, coo_matrix sums their stars. Possibly we should drop earlier reviews to avoid this\n",
    "\n",
    "user_item_sparse_matrix = user_item_sparse_matrix.tocsr()"
   ]
  },
  {
   "cell_type": "code",
   "execution_count": 16,
   "id": "eb4cde51",
   "metadata": {},
   "outputs": [],
   "source": [
    "user_ids.name = \"user_code\"\n",
    "user_ids_df = pd.concat((user_ids, review_df_filtered_sample['user_id']), axis=1)\n",
    "\n",
    "business_ids.name = \"business_code\"\n",
    "business_ids_df = pd.concat((business_ids, review_df_filtered_sample['business_id']), axis=1)"
   ]
  },
  {
   "cell_type": "code",
   "execution_count": 19,
   "id": "88a3ff75",
   "metadata": {},
   "outputs": [
    {
     "data": {
      "text/plain": [
       "(1987897, 150346)"
      ]
     },
     "execution_count": 19,
     "metadata": {},
     "output_type": "execute_result"
    }
   ],
   "source": [
    "user_item_sparse_matrix.shape"
   ]
  },
  {
   "cell_type": "code",
   "execution_count": 24,
   "id": "40c2258a",
   "metadata": {},
   "outputs": [
    {
     "data": {
      "text/plain": [
       "(1987897, 100)"
      ]
     },
     "execution_count": 24,
     "metadata": {},
     "output_type": "execute_result"
    }
   ],
   "source": [
    "svd = TruncatedSVD(n_components=100)  # Reduce to 100 dimensions to be able to fit into RAM\n",
    "reduced_matrix = svd.fit_transform(user_item_sparse_matrix)\n",
    "\n",
    "reduced_matrix = reduced_matrix.astype(np.float32)\n",
    "\n",
    "reduced_matrix.shape"
   ]
  },
  {
   "cell_type": "code",
   "execution_count": 25,
   "id": "930fd6cd",
   "metadata": {},
   "outputs": [],
   "source": [
    "index = faiss.IndexFlatIP(reduced_matrix.shape[1])\n",
    "faiss.normalize_L2(reduced_matrix)\n",
    "\n",
    "index.add(reduced_matrix)"
   ]
  },
  {
   "cell_type": "code",
   "execution_count": 46,
   "id": "968f8eb8",
   "metadata": {},
   "outputs": [],
   "source": [
    "def get_user_based_recommendations(user_id, n_recommendations=5, n_neighbours=100):\n",
    "    user_code = user_ids_df.loc[user_ids_df['user_id'] == user_id, 'user_code'].index[0]\n",
    "\n",
    "    sim_scores, sim_user_codes = index.search(reduced_matrix[user_code].reshape(1, -1), n_neighbours)\n",
    "\n",
    "    sim_scores, sim_user_codes = sim_scores[0], sim_user_codes[0]\n",
    "    # remove the same user found\n",
    "    sim_scores = sim_scores[sim_user_codes != user_code]\n",
    "    sim_user_codes = sim_user_codes[sim_user_codes != user_code]\n",
    "\n",
    "    similar_users_ratings = user_item_sparse_matrix[sim_user_codes].toarray()  # (n_neighbours, n_businesses)\n",
    "\n",
    "    # In the next step, ideally we should mean only over those users who have reviews for the business for each business\n",
    "    recommendations_codes = np.argsort(similar_users_ratings.mean(axis=0)) # (n_businesses)\n",
    "    recommendations_codes = recommendations_codes[:n_recommendations] # ()\n",
    "\n",
    "    res = []\n",
    "    for code in recommendations_codes:\n",
    "        business_id = business_ids_df.loc[business_ids_df['business_code'] == code, 'business_id'].values[0]\n",
    "        res.append(business_id)\n",
    "    \n",
    "    return res\n"
   ]
  },
  {
   "cell_type": "code",
   "execution_count": 47,
   "id": "f5e5ce94",
   "metadata": {},
   "outputs": [
    {
     "name": "stdout",
     "output_type": "stream",
     "text": [
      "['---kPU91CF4Lq2-WlRu9Lw', 'elXs6FDsrICenolgVQlWEw', 'el_ROdKSbFJyAuX6zeazxg', 'elbgEUwbfQaBq8fNFAaTjQ', 'elbqy5pmTuhPo6-VZR5g8w']\n"
     ]
    }
   ],
   "source": [
    "user_id = 'bcjbaE6dDog4jkNY91ncLQ'\n",
    "recommended_restaurants = get_user_based_recommendations(user_id)\n",
    "print(recommended_restaurants)"
   ]
  },
  {
   "cell_type": "markdown",
   "id": "f8ab8a9f",
   "metadata": {},
   "source": [
    "# Item-item collaborative filtering model"
   ]
  },
  {
   "cell_type": "code",
   "execution_count": null,
   "id": "0f01f29d",
   "metadata": {},
   "outputs": [],
   "source": [
    "item_user_matrix = user_item_matrix.T\n",
    "item_similarity = cosine_similarity(item_user_matrix)\n",
    "item_similarity_df = pd.DataFrame(item_similarity, index=item_user_matrix.index, columns=item_user_matrix.index)"
   ]
  },
  {
   "cell_type": "code",
   "execution_count": null,
   "id": "c33854ff",
   "metadata": {},
   "outputs": [],
   "source": [
    "def get_item_based_recommendations(business_id, n_recommendations=5):\n",
    "    similar_items = item_similarity_df[business_id].sort_values(ascending=False)[1:n_recommendations+1]\n",
    "    return similar_items.index"
   ]
  },
  {
   "cell_type": "code",
   "execution_count": null,
   "id": "7af69a14",
   "metadata": {},
   "outputs": [],
   "source": [
    "user_id = 'bcjbaE6dDog4jkNY91ncLQ'\n",
    "recommended_restaurants = get_item_based_recommendations(user_id)\n",
    "print(recommended_restaurants)"
   ]
  },
  {
   "cell_type": "code",
   "execution_count": null,
   "id": "b4726ecc",
   "metadata": {},
   "outputs": [],
   "source": []
  }
 ],
 "metadata": {
  "kernelspec": {
   "display_name": "Python 3 (ipykernel)",
   "language": "python",
   "name": "python3"
  },
  "language_info": {
   "codemirror_mode": {
    "name": "ipython",
    "version": 3
   },
   "file_extension": ".py",
   "mimetype": "text/x-python",
   "name": "python",
   "nbconvert_exporter": "python",
   "pygments_lexer": "ipython3",
   "version": "3.11.5"
  }
 },
 "nbformat": 4,
 "nbformat_minor": 5
}
