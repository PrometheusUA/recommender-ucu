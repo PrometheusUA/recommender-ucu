{
 "cells": [
  {
   "cell_type": "code",
   "execution_count": 1,
   "metadata": {},
   "outputs": [],
   "source": [
    "import sys\n",
    "sys.path.append('../../')\n",
    "\n",
    "from os.path import join as pjoin\n",
    "\n",
    "import pandas as pd\n",
    "import numpy as np\n",
    "\n",
    "from src.utils import read_json_df\n",
    "from src.models.factorization import AlternatingLeastSquaresModel, FunkSVDModel\n",
    "from src.models.nn import NNColaborativeModel"
   ]
  },
  {
   "cell_type": "code",
   "execution_count": 2,
   "metadata": {},
   "outputs": [],
   "source": [
    "DATASET_PATH = \"../../data/yelp_dataset/\""
   ]
  },
  {
   "cell_type": "code",
   "execution_count": 3,
   "metadata": {},
   "outputs": [],
   "source": [
    "review_df = read_json_df(pjoin(DATASET_PATH, \"yelp_academic_dataset_review.json\"))\n",
    "business_df = read_json_df(pjoin(DATASET_PATH, \"yelp_academic_dataset_business.json\"))\n",
    "user_df = read_json_df(pjoin(DATASET_PATH, \"yelp_academic_dataset_user.json\"))"
   ]
  },
  {
   "cell_type": "code",
   "execution_count": 4,
   "metadata": {},
   "outputs": [],
   "source": [
    "review_df['date'] = pd.to_datetime(review_df['date'])"
   ]
  },
  {
   "cell_type": "markdown",
   "metadata": {},
   "source": [
    "## ALS\n",
    "\n",
    "Hyperparameter tuning:"
   ]
  },
  {
   "cell_type": "code",
   "execution_count": 8,
   "metadata": {},
   "outputs": [
    {
     "name": "stderr",
     "output_type": "stream",
     "text": [
      "Evaluation fold: 100%|██████████| 1/1 [00:23<00:00, 23.90s/it]\n"
     ]
    },
    {
     "name": "stdout",
     "output_type": "stream",
     "text": [
      "Lambda=0.1, n_factors=10: RMSE=1.2166583370891606, Accuracy=0.301, MAP@K=0.0\n"
     ]
    },
    {
     "name": "stderr",
     "output_type": "stream",
     "text": [
      "Evaluation fold: 100%|██████████| 1/1 [00:30<00:00, 30.03s/it]\n"
     ]
    },
    {
     "name": "stdout",
     "output_type": "stream",
     "text": [
      "Lambda=0.1, n_factors=20: RMSE=1.2337812911032755, Accuracy=0.302, MAP@K=0.0009520574534161491\n"
     ]
    },
    {
     "name": "stderr",
     "output_type": "stream",
     "text": [
      "Evaluation fold: 100%|██████████| 1/1 [00:35<00:00, 35.28s/it]\n"
     ]
    },
    {
     "name": "stdout",
     "output_type": "stream",
     "text": [
      "Lambda=0.1, n_factors=50: RMSE=1.216983639456942, Accuracy=0.308, MAP@K=0.00029772688060731537\n"
     ]
    },
    {
     "name": "stderr",
     "output_type": "stream",
     "text": [
      "Evaluation fold: 100%|██████████| 1/1 [00:42<00:00, 42.41s/it]\n"
     ]
    },
    {
     "name": "stdout",
     "output_type": "stream",
     "text": [
      "Lambda=0.1, n_factors=100: RMSE=1.206947928120437, Accuracy=0.304, MAP@K=0.0005241761559696342\n"
     ]
    },
    {
     "name": "stderr",
     "output_type": "stream",
     "text": [
      "Evaluation fold: 100%|██████████| 1/1 [01:20<00:00, 80.46s/it]\n"
     ]
    },
    {
     "name": "stdout",
     "output_type": "stream",
     "text": [
      "Lambda=0.1, n_factors=200: RMSE=1.1910057974850807, Accuracy=0.317, MAP@K=0.0010483523119392685\n"
     ]
    },
    {
     "name": "stderr",
     "output_type": "stream",
     "text": [
      "Evaluation fold: 100%|██████████| 1/1 [00:17<00:00, 17.39s/it]\n"
     ]
    },
    {
     "name": "stdout",
     "output_type": "stream",
     "text": [
      "Lambda=1, n_factors=10: RMSE=1.3613160062176735, Accuracy=0.21, MAP@K=2.7173913043478262e-05\n"
     ]
    },
    {
     "name": "stderr",
     "output_type": "stream",
     "text": [
      "Evaluation fold: 100%|██████████| 1/1 [00:18<00:00, 18.50s/it]\n"
     ]
    },
    {
     "name": "stdout",
     "output_type": "stream",
     "text": [
      "Lambda=1, n_factors=20: RMSE=1.1948659552566443, Accuracy=0.3, MAP@K=0.0\n"
     ]
    },
    {
     "name": "stderr",
     "output_type": "stream",
     "text": [
      "Evaluation fold: 100%|██████████| 1/1 [00:24<00:00, 24.26s/it]\n"
     ]
    },
    {
     "name": "stdout",
     "output_type": "stream",
     "text": [
      "Lambda=1, n_factors=50: RMSE=1.1908634443652306, Accuracy=0.312, MAP@K=0.0006350284679089025\n"
     ]
    },
    {
     "name": "stderr",
     "output_type": "stream",
     "text": [
      "Evaluation fold: 100%|██████████| 1/1 [00:41<00:00, 41.76s/it]\n"
     ]
    },
    {
     "name": "stdout",
     "output_type": "stream",
     "text": [
      "Lambda=1, n_factors=100: RMSE=1.2057957597985491, Accuracy=0.305, MAP@K=0.0002667788129744651\n"
     ]
    },
    {
     "name": "stderr",
     "output_type": "stream",
     "text": [
      "Evaluation fold: 100%|██████████| 1/1 [01:16<00:00, 76.26s/it]\n"
     ]
    },
    {
     "name": "stdout",
     "output_type": "stream",
     "text": [
      "Lambda=1, n_factors=200: RMSE=1.2460602227003066, Accuracy=0.239, MAP@K=0.00022979209799861973\n"
     ]
    },
    {
     "name": "stderr",
     "output_type": "stream",
     "text": [
      "Evaluation fold: 100%|██████████| 1/1 [00:17<00:00, 17.38s/it]\n"
     ]
    },
    {
     "name": "stdout",
     "output_type": "stream",
     "text": [
      "Lambda=10, n_factors=10: RMSE=1.148321494043257, Accuracy=0.32, MAP@K=0.0010483523119392685\n"
     ]
    },
    {
     "name": "stderr",
     "output_type": "stream",
     "text": [
      "Evaluation fold: 100%|██████████| 1/1 [00:19<00:00, 19.11s/it]\n"
     ]
    },
    {
     "name": "stdout",
     "output_type": "stream",
     "text": [
      "Lambda=10, n_factors=20: RMSE=1.2046292604353062, Accuracy=0.25, MAP@K=0.0\n"
     ]
    },
    {
     "name": "stderr",
     "output_type": "stream",
     "text": [
      "Evaluation fold: 100%|██████████| 1/1 [00:23<00:00, 23.64s/it]\n"
     ]
    },
    {
     "name": "stdout",
     "output_type": "stream",
     "text": [
      "Lambda=10, n_factors=50: RMSE=1.1499304809642, Accuracy=0.325, MAP@K=0.0\n"
     ]
    },
    {
     "name": "stderr",
     "output_type": "stream",
     "text": [
      "Evaluation fold: 100%|██████████| 1/1 [00:36<00:00, 36.36s/it]\n"
     ]
    },
    {
     "name": "stdout",
     "output_type": "stream",
     "text": [
      "Lambda=10, n_factors=100: RMSE=1.190070551334774, Accuracy=0.257, MAP@K=0.0\n"
     ]
    },
    {
     "name": "stderr",
     "output_type": "stream",
     "text": [
      "Evaluation fold: 100%|██████████| 1/1 [01:08<00:00, 68.56s/it]\n"
     ]
    },
    {
     "name": "stdout",
     "output_type": "stream",
     "text": [
      "Lambda=10, n_factors=200: RMSE=1.1537055530924052, Accuracy=0.32, MAP@K=0.0\n"
     ]
    },
    {
     "name": "stderr",
     "output_type": "stream",
     "text": [
      "Evaluation fold: 100%|██████████| 1/1 [00:20<00:00, 20.09s/it]\n"
     ]
    },
    {
     "name": "stdout",
     "output_type": "stream",
     "text": [
      "Lambda=100, n_factors=10: RMSE=1.139492087613765, Accuracy=0.328, MAP@K=0.0\n"
     ]
    },
    {
     "name": "stderr",
     "output_type": "stream",
     "text": [
      "Evaluation fold: 100%|██████████| 1/1 [00:24<00:00, 24.01s/it]\n"
     ]
    },
    {
     "name": "stdout",
     "output_type": "stream",
     "text": [
      "Lambda=100, n_factors=20: RMSE=1.1462382084204559, Accuracy=0.328, MAP@K=0.0\n"
     ]
    },
    {
     "name": "stderr",
     "output_type": "stream",
     "text": [
      "Evaluation fold: 100%|██████████| 1/1 [00:34<00:00, 34.45s/it]\n"
     ]
    },
    {
     "name": "stdout",
     "output_type": "stream",
     "text": [
      "Lambda=100, n_factors=50: RMSE=1.1354198762837842, Accuracy=0.328, MAP@K=0.0\n"
     ]
    },
    {
     "name": "stderr",
     "output_type": "stream",
     "text": [
      "Evaluation fold: 100%|██████████| 1/1 [00:40<00:00, 40.07s/it]\n"
     ]
    },
    {
     "name": "stdout",
     "output_type": "stream",
     "text": [
      "Lambda=100, n_factors=100: RMSE=1.138961064068638, Accuracy=0.328, MAP@K=0.0\n"
     ]
    },
    {
     "name": "stderr",
     "output_type": "stream",
     "text": [
      "Evaluation fold: 100%|██████████| 1/1 [01:52<00:00, 112.50s/it]"
     ]
    },
    {
     "name": "stdout",
     "output_type": "stream",
     "text": [
      "Lambda=100, n_factors=200: RMSE=1.1348668592973437, Accuracy=0.328, MAP@K=0.0\n"
     ]
    },
    {
     "name": "stderr",
     "output_type": "stream",
     "text": [
      "\n"
     ]
    }
   ],
   "source": [
    "for lambda_ in [0.1, 1, 10, 100]:\n",
    "    for n_factors in [10, 20, 50, 100, 200]:\n",
    "        als_model = AlternatingLeastSquaresModel(n_factors=n_factors, reguralization_param=lambda_, eps=1e-2)\n",
    "        metrics = als_model.evaluate(review_df, user_df, business_df, short_eval=True, short_eval_train_samples=10_000)\n",
    "\n",
    "        print(f\"Lambda={lambda_}, {n_factors=}: RMSE={metrics['rmse']}, Accuracy={metrics['accuracy']}, MAP@K={metrics['MAP@K']}\")"
   ]
  },
  {
   "cell_type": "markdown",
   "metadata": {},
   "source": [
    "Best model found:"
   ]
  },
  {
   "cell_type": "code",
   "execution_count": 6,
   "metadata": {},
   "outputs": [
    {
     "name": "stderr",
     "output_type": "stream",
     "text": [
      "Evaluation fold: 100%|██████████| 1/1 [12:23<00:00, 743.33s/it]\n"
     ]
    },
    {
     "data": {
      "text/plain": [
       "{'rmse': 1.2592897376561798,\n",
       " 'mae': 1.0770081622258794,\n",
       " 'accuracy': 0.2119,\n",
       " 'f1': 0.11503925313041885,\n",
       " 'precision': 0.5417094352467278,\n",
       " 'recall': 0.20759367098066414,\n",
       " 'AP@1': 0.0,\n",
       " 'AP@3': 8.804366966015144e-05,\n",
       " 'AP@K': 0.00013206550449022716,\n",
       " 'MAP@K': 6.3349516598328e-05}"
      ]
     },
     "execution_count": 6,
     "metadata": {},
     "output_type": "execute_result"
    }
   ],
   "source": [
    "als_model = AlternatingLeastSquaresModel(n_factors=10, reguralization_param=10, eps=1e-2)\n",
    "als_model.evaluate(review_df, user_df, business_df, short_eval=True, short_eval_train_samples=100_000)"
   ]
  },
  {
   "cell_type": "markdown",
   "metadata": {},
   "source": [
    "## FunkSVD\n",
    "\n",
    "Hyperparameter tuning:"
   ]
  },
  {
   "cell_type": "code",
   "execution_count": 7,
   "metadata": {},
   "outputs": [
    {
     "name": "stderr",
     "output_type": "stream",
     "text": [
      "100%|██████████| 10/10 [00:03<00:00,  2.52it/s] ?it/s]\n",
      "Evaluation fold: 100%|██████████| 1/1 [00:17<00:00, 17.47s/it]\n"
     ]
    },
    {
     "name": "stdout",
     "output_type": "stream",
     "text": [
      "Lambda=0.1, n_factors=10, learning_rate=0.01, n_epoch=5: RMSE=1.105692823347056, Accuracy=0.352, MAP@K=0.0007180598688750863\n"
     ]
    },
    {
     "name": "stderr",
     "output_type": "stream",
     "text": [
      "100%|██████████| 10/10 [00:07<00:00,  1.30it/s] ?it/s]\n",
      "Evaluation fold:   0%|          | 0/1 [00:10<?, ?it/s]\n"
     ]
    },
    {
     "ename": "KeyboardInterrupt",
     "evalue": "",
     "output_type": "error",
     "traceback": [
      "\u001b[1;31m---------------------------------------------------------------------------\u001b[0m",
      "\u001b[1;31mKeyboardInterrupt\u001b[0m                         Traceback (most recent call last)",
      "Cell \u001b[1;32mIn[7], line 6\u001b[0m\n\u001b[0;32m      4\u001b[0m \u001b[38;5;28;01mfor\u001b[39;00m n_epoch \u001b[38;5;129;01min\u001b[39;00m [\u001b[38;5;241m5\u001b[39m, \u001b[38;5;241m10\u001b[39m, \u001b[38;5;241m50\u001b[39m]:\n\u001b[0;32m      5\u001b[0m     fsvdmodel \u001b[38;5;241m=\u001b[39m FunkSVDModel(n_factors\u001b[38;5;241m=\u001b[39mn_factors, reguralization_param\u001b[38;5;241m=\u001b[39mlambda_, learning_rate\u001b[38;5;241m=\u001b[39mlearning_rate, n_epoch\u001b[38;5;241m=\u001b[39mn_epoch)\n\u001b[1;32m----> 6\u001b[0m     metrics \u001b[38;5;241m=\u001b[39m \u001b[43mfsvdmodel\u001b[49m\u001b[38;5;241;43m.\u001b[39;49m\u001b[43mevaluate\u001b[49m\u001b[43m(\u001b[49m\u001b[43mreview_df\u001b[49m\u001b[43m,\u001b[49m\u001b[43m \u001b[49m\u001b[43muser_df\u001b[49m\u001b[43m,\u001b[49m\u001b[43m \u001b[49m\u001b[43mbusiness_df\u001b[49m\u001b[43m,\u001b[49m\u001b[43m \u001b[49m\u001b[43mshort_eval\u001b[49m\u001b[38;5;241;43m=\u001b[39;49m\u001b[38;5;28;43;01mTrue\u001b[39;49;00m\u001b[43m,\u001b[49m\u001b[43m \u001b[49m\u001b[43mshort_eval_train_samples\u001b[49m\u001b[38;5;241;43m=\u001b[39;49m\u001b[38;5;241;43m10_000\u001b[39;49m\u001b[43m)\u001b[49m\n\u001b[0;32m      8\u001b[0m     \u001b[38;5;28mprint\u001b[39m(\u001b[38;5;124mf\u001b[39m\u001b[38;5;124m\"\u001b[39m\u001b[38;5;124mLambda=\u001b[39m\u001b[38;5;132;01m{\u001b[39;00mlambda_\u001b[38;5;132;01m}\u001b[39;00m\u001b[38;5;124m, \u001b[39m\u001b[38;5;132;01m{\u001b[39;00mn_factors\u001b[38;5;132;01m=}\u001b[39;00m\u001b[38;5;124m, \u001b[39m\u001b[38;5;132;01m{\u001b[39;00mlearning_rate\u001b[38;5;132;01m=}\u001b[39;00m\u001b[38;5;124m, \u001b[39m\u001b[38;5;132;01m{\u001b[39;00mn_epoch\u001b[38;5;132;01m=}\u001b[39;00m\u001b[38;5;124m: RMSE=\u001b[39m\u001b[38;5;132;01m{\u001b[39;00mmetrics[\u001b[38;5;124m'\u001b[39m\u001b[38;5;124mrmse\u001b[39m\u001b[38;5;124m'\u001b[39m]\u001b[38;5;132;01m}\u001b[39;00m\u001b[38;5;124m, Accuracy=\u001b[39m\u001b[38;5;132;01m{\u001b[39;00mmetrics[\u001b[38;5;124m'\u001b[39m\u001b[38;5;124maccuracy\u001b[39m\u001b[38;5;124m'\u001b[39m]\u001b[38;5;132;01m}\u001b[39;00m\u001b[38;5;124m, MAP@K=\u001b[39m\u001b[38;5;132;01m{\u001b[39;00mmetrics[\u001b[38;5;124m'\u001b[39m\u001b[38;5;124mMAP@K\u001b[39m\u001b[38;5;124m'\u001b[39m]\u001b[38;5;132;01m}\u001b[39;00m\u001b[38;5;124m\"\u001b[39m)\n",
      "File \u001b[1;32me:\\_UNIVER\\UCU\\2 sem\\Recommender\\recommender-ucu\\experiments\\20240706_andrii_factorization\\../..\\src\\models\\_base.py:135\u001b[0m, in \u001b[0;36mBaseModel.evaluate\u001b[1;34m(self, review_df, user_df, business_df, short_eval, short_eval_train_samples, short_eval_val_size, time_folds_count, predict_per_user)\u001b[0m\n\u001b[0;32m    132\u001b[0m business_val_df \u001b[38;5;241m=\u001b[39m business_df\u001b[38;5;241m.\u001b[39mloc[business_df[\u001b[38;5;124m'\u001b[39m\u001b[38;5;124mbusiness_id\u001b[39m\u001b[38;5;124m'\u001b[39m]\u001b[38;5;241m.\u001b[39misin(review_val_df[\u001b[38;5;124m'\u001b[39m\u001b[38;5;124mbusiness_id\u001b[39m\u001b[38;5;124m'\u001b[39m]\u001b[38;5;241m.\u001b[39munique())]\n\u001b[0;32m    134\u001b[0m \u001b[38;5;28mself\u001b[39m\u001b[38;5;241m.\u001b[39mfit(review_train_df, user_train_df, business_train_df)\n\u001b[1;32m--> 135\u001b[0m predicted_stars, user_suggestions \u001b[38;5;241m=\u001b[39m \u001b[38;5;28;43mself\u001b[39;49m\u001b[38;5;241;43m.\u001b[39;49m\u001b[43mpredict\u001b[49m\u001b[43m(\u001b[49m\u001b[43mreview_val_df\u001b[49m\u001b[43m,\u001b[49m\u001b[43m \u001b[49m\u001b[43muser_val_df\u001b[49m\u001b[43m,\u001b[49m\u001b[43m \u001b[49m\u001b[43mbusiness_val_df\u001b[49m\u001b[43m,\u001b[49m\u001b[43m \u001b[49m\u001b[43mpredict_per_user\u001b[49m\u001b[43m)\u001b[49m\n\u001b[0;32m    137\u001b[0m metrics \u001b[38;5;241m=\u001b[39m \u001b[38;5;28mself\u001b[39m\u001b[38;5;241m.\u001b[39m__metrics(review_val_df, predicted_stars, user_suggestions, predict_per_user)\n\u001b[0;32m    139\u001b[0m folds_metrics\u001b[38;5;241m.\u001b[39mappend(metrics)\n",
      "File \u001b[1;32me:\\_UNIVER\\UCU\\2 sem\\Recommender\\recommender-ucu\\experiments\\20240706_andrii_factorization\\../..\\src\\models\\factorization.py:300\u001b[0m, in \u001b[0;36mFunkSVDModel.predict\u001b[1;34m(self, review_val_df, user_df, business_df, predict_per_user)\u001b[0m\n\u001b[0;32m    295\u001b[0m \u001b[38;5;28;01mdef\u001b[39;00m \u001b[38;5;21mpredict\u001b[39m(\u001b[38;5;28mself\u001b[39m, \n\u001b[0;32m    296\u001b[0m             review_val_df: pd\u001b[38;5;241m.\u001b[39mDataFrame, \n\u001b[0;32m    297\u001b[0m             user_df: pd\u001b[38;5;241m.\u001b[39mDataFrame, \n\u001b[0;32m    298\u001b[0m             business_df: pd\u001b[38;5;241m.\u001b[39mDataFrame, \n\u001b[0;32m    299\u001b[0m             predict_per_user: \u001b[38;5;28mint\u001b[39m \u001b[38;5;241m=\u001b[39m \u001b[38;5;241m10\u001b[39m) \u001b[38;5;241m-\u001b[39m\u001b[38;5;241m>\u001b[39m np\u001b[38;5;241m.\u001b[39mndarray \u001b[38;5;241m|\u001b[39m pd\u001b[38;5;241m.\u001b[39mSeries:\n\u001b[1;32m--> 300\u001b[0m     user_suggestions \u001b[38;5;241m=\u001b[39m \u001b[43muser_df\u001b[49m\u001b[38;5;241;43m.\u001b[39;49m\u001b[43mgroupby\u001b[49m\u001b[43m(\u001b[49m\u001b[38;5;124;43m'\u001b[39;49m\u001b[38;5;124;43muser_id\u001b[39;49m\u001b[38;5;124;43m'\u001b[39;49m\u001b[43m,\u001b[49m\u001b[43m \u001b[49m\u001b[43mobserved\u001b[49m\u001b[38;5;241;43m=\u001b[39;49m\u001b[38;5;28;43;01mTrue\u001b[39;49;00m\u001b[43m)\u001b[49m\u001b[43m[\u001b[49m\u001b[38;5;124;43m'\u001b[39;49m\u001b[38;5;124;43muser_id\u001b[39;49m\u001b[38;5;124;43m'\u001b[39;49m\u001b[43m]\u001b[49m\u001b[38;5;241;43m.\u001b[39;49m\u001b[43mapply\u001b[49m\u001b[43m(\u001b[49m\u001b[38;5;28;43;01mlambda\u001b[39;49;00m\u001b[43m \u001b[49m\u001b[43muser_id\u001b[49m\u001b[43m:\u001b[49m\u001b[43m \u001b[49m\u001b[38;5;28;43mself\u001b[39;49m\u001b[38;5;241;43m.\u001b[39;49m\u001b[43mrecommend_restaurants\u001b[49m\u001b[43m(\u001b[49m\u001b[43muser_id\u001b[49m\u001b[38;5;241;43m.\u001b[39;49m\u001b[43miloc\u001b[49m\u001b[43m[\u001b[49m\u001b[38;5;241;43m0\u001b[39;49m\u001b[43m]\u001b[49m\u001b[43m,\u001b[49m\u001b[43m \u001b[49m\u001b[43mtop_n\u001b[49m\u001b[38;5;241;43m=\u001b[39;49m\u001b[43mpredict_per_user\u001b[49m\u001b[43m)\u001b[49m\u001b[43m)\u001b[49m\n\u001b[0;32m    302\u001b[0m     predictions \u001b[38;5;241m=\u001b[39m []\n\u001b[0;32m    303\u001b[0m     \u001b[38;5;28;01mfor\u001b[39;00m _, row \u001b[38;5;129;01min\u001b[39;00m review_val_df[[\u001b[38;5;124m\"\u001b[39m\u001b[38;5;124muser_id\u001b[39m\u001b[38;5;124m\"\u001b[39m, \u001b[38;5;124m\"\u001b[39m\u001b[38;5;124mbusiness_id\u001b[39m\u001b[38;5;124m\"\u001b[39m]]\u001b[38;5;241m.\u001b[39miterrows():\n",
      "File \u001b[1;32me:\\_UNIVER\\UCU\\2 sem\\Recommender\\recommender-ucu\\.venv\\Lib\\site-packages\\pandas\\core\\groupby\\generic.py:230\u001b[0m, in \u001b[0;36mSeriesGroupBy.apply\u001b[1;34m(self, func, *args, **kwargs)\u001b[0m\n\u001b[0;32m    224\u001b[0m \u001b[38;5;129m@Appender\u001b[39m(\n\u001b[0;32m    225\u001b[0m     _apply_docs[\u001b[38;5;124m\"\u001b[39m\u001b[38;5;124mtemplate\u001b[39m\u001b[38;5;124m\"\u001b[39m]\u001b[38;5;241m.\u001b[39mformat(\n\u001b[0;32m    226\u001b[0m         \u001b[38;5;28minput\u001b[39m\u001b[38;5;241m=\u001b[39m\u001b[38;5;124m\"\u001b[39m\u001b[38;5;124mseries\u001b[39m\u001b[38;5;124m\"\u001b[39m, examples\u001b[38;5;241m=\u001b[39m_apply_docs[\u001b[38;5;124m\"\u001b[39m\u001b[38;5;124mseries_examples\u001b[39m\u001b[38;5;124m\"\u001b[39m]\n\u001b[0;32m    227\u001b[0m     )\n\u001b[0;32m    228\u001b[0m )\n\u001b[0;32m    229\u001b[0m \u001b[38;5;28;01mdef\u001b[39;00m \u001b[38;5;21mapply\u001b[39m(\u001b[38;5;28mself\u001b[39m, func, \u001b[38;5;241m*\u001b[39margs, \u001b[38;5;241m*\u001b[39m\u001b[38;5;241m*\u001b[39mkwargs) \u001b[38;5;241m-\u001b[39m\u001b[38;5;241m>\u001b[39m Series:\n\u001b[1;32m--> 230\u001b[0m     \u001b[38;5;28;01mreturn\u001b[39;00m \u001b[38;5;28;43msuper\u001b[39;49m\u001b[43m(\u001b[49m\u001b[43m)\u001b[49m\u001b[38;5;241;43m.\u001b[39;49m\u001b[43mapply\u001b[49m\u001b[43m(\u001b[49m\u001b[43mfunc\u001b[49m\u001b[43m,\u001b[49m\u001b[43m \u001b[49m\u001b[38;5;241;43m*\u001b[39;49m\u001b[43margs\u001b[49m\u001b[43m,\u001b[49m\u001b[43m \u001b[49m\u001b[38;5;241;43m*\u001b[39;49m\u001b[38;5;241;43m*\u001b[39;49m\u001b[43mkwargs\u001b[49m\u001b[43m)\u001b[49m\n",
      "File \u001b[1;32me:\\_UNIVER\\UCU\\2 sem\\Recommender\\recommender-ucu\\.venv\\Lib\\site-packages\\pandas\\core\\groupby\\groupby.py:1824\u001b[0m, in \u001b[0;36mGroupBy.apply\u001b[1;34m(self, func, include_groups, *args, **kwargs)\u001b[0m\n\u001b[0;32m   1822\u001b[0m \u001b[38;5;28;01mwith\u001b[39;00m option_context(\u001b[38;5;124m\"\u001b[39m\u001b[38;5;124mmode.chained_assignment\u001b[39m\u001b[38;5;124m\"\u001b[39m, \u001b[38;5;28;01mNone\u001b[39;00m):\n\u001b[0;32m   1823\u001b[0m     \u001b[38;5;28;01mtry\u001b[39;00m:\n\u001b[1;32m-> 1824\u001b[0m         result \u001b[38;5;241m=\u001b[39m \u001b[38;5;28;43mself\u001b[39;49m\u001b[38;5;241;43m.\u001b[39;49m\u001b[43m_python_apply_general\u001b[49m\u001b[43m(\u001b[49m\u001b[43mf\u001b[49m\u001b[43m,\u001b[49m\u001b[43m \u001b[49m\u001b[38;5;28;43mself\u001b[39;49m\u001b[38;5;241;43m.\u001b[39;49m\u001b[43m_selected_obj\u001b[49m\u001b[43m)\u001b[49m\n\u001b[0;32m   1825\u001b[0m         \u001b[38;5;28;01mif\u001b[39;00m (\n\u001b[0;32m   1826\u001b[0m             \u001b[38;5;129;01mnot\u001b[39;00m \u001b[38;5;28misinstance\u001b[39m(\u001b[38;5;28mself\u001b[39m\u001b[38;5;241m.\u001b[39mobj, Series)\n\u001b[0;32m   1827\u001b[0m             \u001b[38;5;129;01mand\u001b[39;00m \u001b[38;5;28mself\u001b[39m\u001b[38;5;241m.\u001b[39m_selection \u001b[38;5;129;01mis\u001b[39;00m \u001b[38;5;28;01mNone\u001b[39;00m\n\u001b[0;32m   1828\u001b[0m             \u001b[38;5;129;01mand\u001b[39;00m \u001b[38;5;28mself\u001b[39m\u001b[38;5;241m.\u001b[39m_selected_obj\u001b[38;5;241m.\u001b[39mshape \u001b[38;5;241m!=\u001b[39m \u001b[38;5;28mself\u001b[39m\u001b[38;5;241m.\u001b[39m_obj_with_exclusions\u001b[38;5;241m.\u001b[39mshape\n\u001b[0;32m   1829\u001b[0m         ):\n\u001b[0;32m   1830\u001b[0m             warnings\u001b[38;5;241m.\u001b[39mwarn(\n\u001b[0;32m   1831\u001b[0m                 message\u001b[38;5;241m=\u001b[39m_apply_groupings_depr\u001b[38;5;241m.\u001b[39mformat(\n\u001b[0;32m   1832\u001b[0m                     \u001b[38;5;28mtype\u001b[39m(\u001b[38;5;28mself\u001b[39m)\u001b[38;5;241m.\u001b[39m\u001b[38;5;18m__name__\u001b[39m, \u001b[38;5;124m\"\u001b[39m\u001b[38;5;124mapply\u001b[39m\u001b[38;5;124m\"\u001b[39m\n\u001b[1;32m   (...)\u001b[0m\n\u001b[0;32m   1835\u001b[0m                 stacklevel\u001b[38;5;241m=\u001b[39mfind_stack_level(),\n\u001b[0;32m   1836\u001b[0m             )\n",
      "File \u001b[1;32me:\\_UNIVER\\UCU\\2 sem\\Recommender\\recommender-ucu\\.venv\\Lib\\site-packages\\pandas\\core\\groupby\\groupby.py:1885\u001b[0m, in \u001b[0;36mGroupBy._python_apply_general\u001b[1;34m(self, f, data, not_indexed_same, is_transform, is_agg)\u001b[0m\n\u001b[0;32m   1850\u001b[0m \u001b[38;5;129m@final\u001b[39m\n\u001b[0;32m   1851\u001b[0m \u001b[38;5;28;01mdef\u001b[39;00m \u001b[38;5;21m_python_apply_general\u001b[39m(\n\u001b[0;32m   1852\u001b[0m     \u001b[38;5;28mself\u001b[39m,\n\u001b[1;32m   (...)\u001b[0m\n\u001b[0;32m   1857\u001b[0m     is_agg: \u001b[38;5;28mbool\u001b[39m \u001b[38;5;241m=\u001b[39m \u001b[38;5;28;01mFalse\u001b[39;00m,\n\u001b[0;32m   1858\u001b[0m ) \u001b[38;5;241m-\u001b[39m\u001b[38;5;241m>\u001b[39m NDFrameT:\n\u001b[0;32m   1859\u001b[0m \u001b[38;5;250m    \u001b[39m\u001b[38;5;124;03m\"\"\"\u001b[39;00m\n\u001b[0;32m   1860\u001b[0m \u001b[38;5;124;03m    Apply function f in python space\u001b[39;00m\n\u001b[0;32m   1861\u001b[0m \n\u001b[1;32m   (...)\u001b[0m\n\u001b[0;32m   1883\u001b[0m \u001b[38;5;124;03m        data after applying f\u001b[39;00m\n\u001b[0;32m   1884\u001b[0m \u001b[38;5;124;03m    \"\"\"\u001b[39;00m\n\u001b[1;32m-> 1885\u001b[0m     values, mutated \u001b[38;5;241m=\u001b[39m \u001b[38;5;28;43mself\u001b[39;49m\u001b[38;5;241;43m.\u001b[39;49m\u001b[43m_grouper\u001b[49m\u001b[38;5;241;43m.\u001b[39;49m\u001b[43mapply_groupwise\u001b[49m\u001b[43m(\u001b[49m\u001b[43mf\u001b[49m\u001b[43m,\u001b[49m\u001b[43m \u001b[49m\u001b[43mdata\u001b[49m\u001b[43m,\u001b[49m\u001b[43m \u001b[49m\u001b[38;5;28;43mself\u001b[39;49m\u001b[38;5;241;43m.\u001b[39;49m\u001b[43maxis\u001b[49m\u001b[43m)\u001b[49m\n\u001b[0;32m   1886\u001b[0m     \u001b[38;5;28;01mif\u001b[39;00m not_indexed_same \u001b[38;5;129;01mis\u001b[39;00m \u001b[38;5;28;01mNone\u001b[39;00m:\n\u001b[0;32m   1887\u001b[0m         not_indexed_same \u001b[38;5;241m=\u001b[39m mutated\n",
      "File \u001b[1;32me:\\_UNIVER\\UCU\\2 sem\\Recommender\\recommender-ucu\\.venv\\Lib\\site-packages\\pandas\\core\\groupby\\ops.py:919\u001b[0m, in \u001b[0;36mBaseGrouper.apply_groupwise\u001b[1;34m(self, f, data, axis)\u001b[0m\n\u001b[0;32m    917\u001b[0m \u001b[38;5;66;03m# group might be modified\u001b[39;00m\n\u001b[0;32m    918\u001b[0m group_axes \u001b[38;5;241m=\u001b[39m group\u001b[38;5;241m.\u001b[39maxes\n\u001b[1;32m--> 919\u001b[0m res \u001b[38;5;241m=\u001b[39m \u001b[43mf\u001b[49m\u001b[43m(\u001b[49m\u001b[43mgroup\u001b[49m\u001b[43m)\u001b[49m\n\u001b[0;32m    920\u001b[0m \u001b[38;5;28;01mif\u001b[39;00m \u001b[38;5;129;01mnot\u001b[39;00m mutated \u001b[38;5;129;01mand\u001b[39;00m \u001b[38;5;129;01mnot\u001b[39;00m _is_indexed_like(res, group_axes, axis):\n\u001b[0;32m    921\u001b[0m     mutated \u001b[38;5;241m=\u001b[39m \u001b[38;5;28;01mTrue\u001b[39;00m\n",
      "File \u001b[1;32me:\\_UNIVER\\UCU\\2 sem\\Recommender\\recommender-ucu\\experiments\\20240706_andrii_factorization\\../..\\src\\models\\factorization.py:300\u001b[0m, in \u001b[0;36mFunkSVDModel.predict.<locals>.<lambda>\u001b[1;34m(user_id)\u001b[0m\n\u001b[0;32m    295\u001b[0m \u001b[38;5;28;01mdef\u001b[39;00m \u001b[38;5;21mpredict\u001b[39m(\u001b[38;5;28mself\u001b[39m, \n\u001b[0;32m    296\u001b[0m             review_val_df: pd\u001b[38;5;241m.\u001b[39mDataFrame, \n\u001b[0;32m    297\u001b[0m             user_df: pd\u001b[38;5;241m.\u001b[39mDataFrame, \n\u001b[0;32m    298\u001b[0m             business_df: pd\u001b[38;5;241m.\u001b[39mDataFrame, \n\u001b[0;32m    299\u001b[0m             predict_per_user: \u001b[38;5;28mint\u001b[39m \u001b[38;5;241m=\u001b[39m \u001b[38;5;241m10\u001b[39m) \u001b[38;5;241m-\u001b[39m\u001b[38;5;241m>\u001b[39m np\u001b[38;5;241m.\u001b[39mndarray \u001b[38;5;241m|\u001b[39m pd\u001b[38;5;241m.\u001b[39mSeries:\n\u001b[1;32m--> 300\u001b[0m     user_suggestions \u001b[38;5;241m=\u001b[39m user_df\u001b[38;5;241m.\u001b[39mgroupby(\u001b[38;5;124m'\u001b[39m\u001b[38;5;124muser_id\u001b[39m\u001b[38;5;124m'\u001b[39m, observed\u001b[38;5;241m=\u001b[39m\u001b[38;5;28;01mTrue\u001b[39;00m)[\u001b[38;5;124m'\u001b[39m\u001b[38;5;124muser_id\u001b[39m\u001b[38;5;124m'\u001b[39m]\u001b[38;5;241m.\u001b[39mapply(\u001b[38;5;28;01mlambda\u001b[39;00m user_id: \u001b[38;5;28;43mself\u001b[39;49m\u001b[38;5;241;43m.\u001b[39;49m\u001b[43mrecommend_restaurants\u001b[49m\u001b[43m(\u001b[49m\u001b[43muser_id\u001b[49m\u001b[38;5;241;43m.\u001b[39;49m\u001b[43miloc\u001b[49m\u001b[43m[\u001b[49m\u001b[38;5;241;43m0\u001b[39;49m\u001b[43m]\u001b[49m\u001b[43m,\u001b[49m\u001b[43m \u001b[49m\u001b[43mtop_n\u001b[49m\u001b[38;5;241;43m=\u001b[39;49m\u001b[43mpredict_per_user\u001b[49m\u001b[43m)\u001b[49m)\n\u001b[0;32m    302\u001b[0m     predictions \u001b[38;5;241m=\u001b[39m []\n\u001b[0;32m    303\u001b[0m     \u001b[38;5;28;01mfor\u001b[39;00m _, row \u001b[38;5;129;01min\u001b[39;00m review_val_df[[\u001b[38;5;124m\"\u001b[39m\u001b[38;5;124muser_id\u001b[39m\u001b[38;5;124m\"\u001b[39m, \u001b[38;5;124m\"\u001b[39m\u001b[38;5;124mbusiness_id\u001b[39m\u001b[38;5;124m\"\u001b[39m]]\u001b[38;5;241m.\u001b[39miterrows():\n",
      "File \u001b[1;32me:\\_UNIVER\\UCU\\2 sem\\Recommender\\recommender-ucu\\experiments\\20240706_andrii_factorization\\../..\\src\\models\\factorization.py:291\u001b[0m, in \u001b[0;36mFunkSVDModel.recommend_restaurants\u001b[1;34m(self, user_id, top_n)\u001b[0m\n\u001b[0;32m    288\u001b[0m \u001b[38;5;28;01mdef\u001b[39;00m \u001b[38;5;21mrecommend_restaurants\u001b[39m(\u001b[38;5;28mself\u001b[39m, user_id, top_n: \u001b[38;5;28mint\u001b[39m \u001b[38;5;241m=\u001b[39m \u001b[38;5;241m10\u001b[39m):\n\u001b[0;32m    289\u001b[0m     visited_restaurants \u001b[38;5;241m=\u001b[39m \u001b[38;5;28mself\u001b[39m\u001b[38;5;241m.\u001b[39mreview_train_df[\u001b[38;5;28mself\u001b[39m\u001b[38;5;241m.\u001b[39mreview_train_df[\u001b[38;5;124m'\u001b[39m\u001b[38;5;124muser_id\u001b[39m\u001b[38;5;124m'\u001b[39m] \u001b[38;5;241m==\u001b[39m user_id][\u001b[38;5;124m'\u001b[39m\u001b[38;5;124mbusiness_id\u001b[39m\u001b[38;5;124m'\u001b[39m]\u001b[38;5;241m.\u001b[39munique()\n\u001b[1;32m--> 291\u001b[0m     restaurant_scores \u001b[38;5;241m=\u001b[39m \u001b[43m[\u001b[49m\u001b[43m(\u001b[49m\u001b[38;5;28;43mself\u001b[39;49m\u001b[38;5;241;43m.\u001b[39;49m\u001b[43mpredict_single_score\u001b[49m\u001b[43m(\u001b[49m\u001b[43muser_id\u001b[49m\u001b[43m,\u001b[49m\u001b[43m \u001b[49m\u001b[43mbusiness_id\u001b[49m\u001b[43m)\u001b[49m\u001b[43m,\u001b[49m\u001b[43m \u001b[49m\u001b[43mbusiness_id\u001b[49m\u001b[43m)\u001b[49m\u001b[43m \u001b[49m\u001b[38;5;28;43;01mfor\u001b[39;49;00m\u001b[43m \u001b[49m\u001b[43mbusiness_id\u001b[49m\u001b[43m \u001b[49m\u001b[38;5;129;43;01min\u001b[39;49;00m\u001b[43m \u001b[49m\u001b[38;5;28;43mself\u001b[39;49m\u001b[38;5;241;43m.\u001b[39;49m\u001b[43mbusiness_ids2codes\u001b[49m\u001b[43m \u001b[49m\u001b[38;5;28;43;01mif\u001b[39;49;00m\u001b[43m \u001b[49m\u001b[43mbusiness_id\u001b[49m\u001b[43m \u001b[49m\u001b[38;5;129;43;01mnot\u001b[39;49;00m\u001b[43m \u001b[49m\u001b[38;5;129;43;01min\u001b[39;49;00m\u001b[43m \u001b[49m\u001b[43mvisited_restaurants\u001b[49m\u001b[43m]\u001b[49m\n\u001b[0;32m    293\u001b[0m     \u001b[38;5;28;01mreturn\u001b[39;00m \u001b[38;5;28mlist\u001b[39m(\u001b[38;5;28mreversed\u001b[39m([restaurant \u001b[38;5;28;01mfor\u001b[39;00m _, restaurant \u001b[38;5;129;01min\u001b[39;00m \u001b[38;5;28msorted\u001b[39m(restaurant_scores)[\u001b[38;5;241m-\u001b[39mtop_n:]]))\n",
      "File \u001b[1;32me:\\_UNIVER\\UCU\\2 sem\\Recommender\\recommender-ucu\\experiments\\20240706_andrii_factorization\\../..\\src\\models\\factorization.py:291\u001b[0m, in \u001b[0;36m<listcomp>\u001b[1;34m(.0)\u001b[0m\n\u001b[0;32m    288\u001b[0m \u001b[38;5;28;01mdef\u001b[39;00m \u001b[38;5;21mrecommend_restaurants\u001b[39m(\u001b[38;5;28mself\u001b[39m, user_id, top_n: \u001b[38;5;28mint\u001b[39m \u001b[38;5;241m=\u001b[39m \u001b[38;5;241m10\u001b[39m):\n\u001b[0;32m    289\u001b[0m     visited_restaurants \u001b[38;5;241m=\u001b[39m \u001b[38;5;28mself\u001b[39m\u001b[38;5;241m.\u001b[39mreview_train_df[\u001b[38;5;28mself\u001b[39m\u001b[38;5;241m.\u001b[39mreview_train_df[\u001b[38;5;124m'\u001b[39m\u001b[38;5;124muser_id\u001b[39m\u001b[38;5;124m'\u001b[39m] \u001b[38;5;241m==\u001b[39m user_id][\u001b[38;5;124m'\u001b[39m\u001b[38;5;124mbusiness_id\u001b[39m\u001b[38;5;124m'\u001b[39m]\u001b[38;5;241m.\u001b[39munique()\n\u001b[1;32m--> 291\u001b[0m     restaurant_scores \u001b[38;5;241m=\u001b[39m [(\u001b[38;5;28mself\u001b[39m\u001b[38;5;241m.\u001b[39mpredict_single_score(user_id, business_id), business_id) \u001b[38;5;28;01mfor\u001b[39;00m business_id \u001b[38;5;129;01min\u001b[39;00m \u001b[38;5;28mself\u001b[39m\u001b[38;5;241m.\u001b[39mbusiness_ids2codes \u001b[38;5;28;01mif\u001b[39;00m business_id \u001b[38;5;129;01mnot\u001b[39;00m \u001b[38;5;129;01min\u001b[39;00m visited_restaurants]\n\u001b[0;32m    293\u001b[0m     \u001b[38;5;28;01mreturn\u001b[39;00m \u001b[38;5;28mlist\u001b[39m(\u001b[38;5;28mreversed\u001b[39m([restaurant \u001b[38;5;28;01mfor\u001b[39;00m _, restaurant \u001b[38;5;129;01min\u001b[39;00m \u001b[38;5;28msorted\u001b[39m(restaurant_scores)[\u001b[38;5;241m-\u001b[39mtop_n:]]))\n",
      "\u001b[1;31mKeyboardInterrupt\u001b[0m: "
     ]
    }
   ],
   "source": [
    "for lambda_ in [0.1, 1, 10]:\n",
    "    for n_factors in [10, 20, 50]:\n",
    "        for learning_rate in [1e-2, 0.1, 1]:\n",
    "            for n_epoch in [5, 10, 50]:\n",
    "                fsvdmodel = FunkSVDModel(n_factors=n_factors, reguralization_param=lambda_, learning_rate=learning_rate, n_epoch=n_epoch)\n",
    "                metrics = fsvdmodel.evaluate(review_df, user_df, business_df, short_eval=True, short_eval_train_samples=10_000)\n",
    "\n",
    "                print(f\"Lambda={lambda_}, {n_factors=}, {learning_rate=}, {n_epoch=}: RMSE={metrics['rmse']}, Accuracy={metrics['accuracy']}, MAP@K={metrics['MAP@K']}\")"
   ]
  },
  {
   "cell_type": "markdown",
   "metadata": {},
   "source": [
    "Best model found:"
   ]
  },
  {
   "cell_type": "code",
   "execution_count": null,
   "metadata": {},
   "outputs": [],
   "source": [
    "fsvdmodel = FunkSVDModel(n_factors=n_factors, reguralization_param=lambda_, learning_rate=learning_rate, n_epoch=n_epoch)\n",
    "fsvdmodel.evaluate(review_df, user_df, business_df, short_eval=True, short_eval_train_samples=100_000)"
   ]
  },
  {
   "cell_type": "markdown",
   "metadata": {},
   "source": [
    "## NN Colaborative Filtering\n",
    "\n",
    "Hyperparameter tuning:"
   ]
  },
  {
   "cell_type": "code",
   "execution_count": 29,
   "metadata": {},
   "outputs": [
    {
     "name": "stderr",
     "output_type": "stream",
     "text": [
      "Evaluation fold: 100%|██████████| 1/1 [00:13<00:00, 13.63s/it]\n"
     ]
    },
    {
     "name": "stdout",
     "output_type": "stream",
     "text": [
      "Epochs=1, n_factors=5, learning_rate=0.001: RMSE=1.153872540990505, Accuracy=0.272, MAP@K=0.0001754442719116632\n"
     ]
    },
    {
     "name": "stderr",
     "output_type": "stream",
     "text": [
      "Evaluation fold: 100%|██████████| 1/1 [00:13<00:00, 13.47s/it]\n"
     ]
    },
    {
     "name": "stdout",
     "output_type": "stream",
     "text": [
      "Epochs=1, n_factors=5, learning_rate=0.01: RMSE=1.1301813317687588, Accuracy=0.328, MAP@K=0.0002667788129744651\n"
     ]
    },
    {
     "name": "stderr",
     "output_type": "stream",
     "text": [
      "Evaluation fold: 100%|██████████| 1/1 [00:13<00:00, 13.35s/it]\n"
     ]
    },
    {
     "name": "stdout",
     "output_type": "stream",
     "text": [
      "Epochs=1, n_factors=5, learning_rate=0.1: RMSE=1.2853015210447702, Accuracy=0.312, MAP@K=0.0004512810559006211\n"
     ]
    },
    {
     "name": "stderr",
     "output_type": "stream",
     "text": [
      "Evaluation fold: 100%|██████████| 1/1 [00:13<00:00, 13.44s/it]\n"
     ]
    },
    {
     "name": "stdout",
     "output_type": "stream",
     "text": [
      "Epochs=1, n_factors=10, learning_rate=0.001: RMSE=1.1318634554135296, Accuracy=0.329, MAP@K=2.7173913043478262e-05\n"
     ]
    },
    {
     "name": "stderr",
     "output_type": "stream",
     "text": [
      "Evaluation fold: 100%|██████████| 1/1 [00:13<00:00, 13.64s/it]\n"
     ]
    },
    {
     "name": "stdout",
     "output_type": "stream",
     "text": [
      "Epochs=1, n_factors=10, learning_rate=0.01: RMSE=1.1281237396820485, Accuracy=0.323, MAP@K=0.00013015441683919944\n"
     ]
    },
    {
     "name": "stderr",
     "output_type": "stream",
     "text": [
      "Evaluation fold: 100%|██████████| 1/1 [00:13<00:00, 13.71s/it]\n"
     ]
    },
    {
     "name": "stdout",
     "output_type": "stream",
     "text": [
      "Epochs=1, n_factors=10, learning_rate=0.1: RMSE=1.2853015210447702, Accuracy=0.312, MAP@K=0.0011422748447204969\n"
     ]
    },
    {
     "name": "stderr",
     "output_type": "stream",
     "text": [
      "Evaluation fold: 100%|██████████| 1/1 [00:13<00:00, 13.94s/it]\n"
     ]
    },
    {
     "name": "stdout",
     "output_type": "stream",
     "text": [
      "Epochs=1, n_factors=20, learning_rate=0.001: RMSE=1.1438469043725836, Accuracy=0.278, MAP@K=0.00047964113181504493\n"
     ]
    },
    {
     "name": "stderr",
     "output_type": "stream",
     "text": [
      "Evaluation fold: 100%|██████████| 1/1 [00:13<00:00, 13.55s/it]\n"
     ]
    },
    {
     "name": "stdout",
     "output_type": "stream",
     "text": [
      "Epochs=1, n_factors=20, learning_rate=0.01: RMSE=1.1273760659326866, Accuracy=0.329, MAP@K=0.00029772688060731537\n"
     ]
    },
    {
     "name": "stderr",
     "output_type": "stream",
     "text": [
      "Evaluation fold: 100%|██████████| 1/1 [00:13<00:00, 13.44s/it]\n"
     ]
    },
    {
     "name": "stdout",
     "output_type": "stream",
     "text": [
      "Epochs=1, n_factors=20, learning_rate=0.1: RMSE=1.2853015210447702, Accuracy=0.312, MAP@K=0.00035994651483781917\n"
     ]
    },
    {
     "name": "stderr",
     "output_type": "stream",
     "text": [
      "Evaluation fold: 100%|██████████| 1/1 [00:13<00:00, 13.65s/it]\n"
     ]
    },
    {
     "name": "stdout",
     "output_type": "stream",
     "text": [
      "Epochs=1, n_factors=50, learning_rate=0.001: RMSE=1.1464346142984096, Accuracy=0.281, MAP@K=0.0\n"
     ]
    },
    {
     "name": "stderr",
     "output_type": "stream",
     "text": [
      "Evaluation fold: 100%|██████████| 1/1 [00:13<00:00, 13.64s/it]\n"
     ]
    },
    {
     "name": "stdout",
     "output_type": "stream",
     "text": [
      "Epochs=1, n_factors=50, learning_rate=0.01: RMSE=1.1316969601128872, Accuracy=0.327, MAP@K=0.0001754442719116632\n"
     ]
    },
    {
     "name": "stderr",
     "output_type": "stream",
     "text": [
      "Evaluation fold: 100%|██████████| 1/1 [00:13<00:00, 13.45s/it]\n"
     ]
    },
    {
     "name": "stdout",
     "output_type": "stream",
     "text": [
      "Epochs=1, n_factors=50, learning_rate=0.1: RMSE=1.2853015210447702, Accuracy=0.312, MAP@K=0.00022979209799861973\n"
     ]
    },
    {
     "name": "stderr",
     "output_type": "stream",
     "text": [
      "Evaluation fold: 100%|██████████| 1/1 [00:13<00:00, 13.89s/it]\n"
     ]
    },
    {
     "name": "stdout",
     "output_type": "stream",
     "text": [
      "Epochs=3, n_factors=5, learning_rate=0.001: RMSE=1.1500563314078949, Accuracy=0.329, MAP@K=0.0\n"
     ]
    },
    {
     "name": "stderr",
     "output_type": "stream",
     "text": [
      "Evaluation fold: 100%|██████████| 1/1 [00:13<00:00, 13.77s/it]\n"
     ]
    },
    {
     "name": "stdout",
     "output_type": "stream",
     "text": [
      "Epochs=3, n_factors=5, learning_rate=0.01: RMSE=1.1318809574245388, Accuracy=0.328, MAP@K=0.0005241761559696342\n"
     ]
    },
    {
     "name": "stderr",
     "output_type": "stream",
     "text": [
      "Evaluation fold: 100%|██████████| 1/1 [00:13<00:00, 13.60s/it]\n"
     ]
    },
    {
     "name": "stdout",
     "output_type": "stream",
     "text": [
      "Epochs=3, n_factors=5, learning_rate=0.1: RMSE=1.2853015210447702, Accuracy=0.312, MAP@K=0.00022979209799861973\n"
     ]
    },
    {
     "name": "stderr",
     "output_type": "stream",
     "text": [
      "Evaluation fold: 100%|██████████| 1/1 [00:14<00:00, 14.00s/it]\n"
     ]
    },
    {
     "name": "stdout",
     "output_type": "stream",
     "text": [
      "Epochs=3, n_factors=10, learning_rate=0.001: RMSE=1.1339387291341594, Accuracy=0.328, MAP@K=0.0\n"
     ]
    },
    {
     "name": "stderr",
     "output_type": "stream",
     "text": [
      "Evaluation fold: 100%|██████████| 1/1 [00:13<00:00, 13.83s/it]\n"
     ]
    },
    {
     "name": "stdout",
     "output_type": "stream",
     "text": [
      "Epochs=3, n_factors=10, learning_rate=0.01: RMSE=1.1334180680775807, Accuracy=0.329, MAP@K=0.0005241761559696342\n"
     ]
    },
    {
     "name": "stderr",
     "output_type": "stream",
     "text": [
      "Evaluation fold: 100%|██████████| 1/1 [00:13<00:00, 13.45s/it]\n"
     ]
    },
    {
     "name": "stdout",
     "output_type": "stream",
     "text": [
      "Epochs=3, n_factors=10, learning_rate=0.1: RMSE=1.2853015210447702, Accuracy=0.312, MAP@K=0.00022979209799861973\n"
     ]
    },
    {
     "name": "stderr",
     "output_type": "stream",
     "text": [
      "Evaluation fold: 100%|██████████| 1/1 [00:13<00:00, 13.88s/it]\n"
     ]
    },
    {
     "name": "stdout",
     "output_type": "stream",
     "text": [
      "Epochs=3, n_factors=20, learning_rate=0.001: RMSE=1.1372480086277565, Accuracy=0.328, MAP@K=0.00029772688060731537\n"
     ]
    },
    {
     "name": "stderr",
     "output_type": "stream",
     "text": [
      "Evaluation fold: 100%|██████████| 1/1 [00:13<00:00, 13.87s/it]\n"
     ]
    },
    {
     "name": "stdout",
     "output_type": "stream",
     "text": [
      "Epochs=3, n_factors=20, learning_rate=0.01: RMSE=1.1279079507008258, Accuracy=0.328, MAP@K=8.454106280193236e-05\n"
     ]
    },
    {
     "name": "stderr",
     "output_type": "stream",
     "text": [
      "Evaluation fold: 100%|██████████| 1/1 [00:13<00:00, 13.69s/it]\n"
     ]
    },
    {
     "name": "stdout",
     "output_type": "stream",
     "text": [
      "Epochs=3, n_factors=20, learning_rate=0.1: RMSE=1.2853015210447702, Accuracy=0.312, MAP@K=0.0008113354037267079\n"
     ]
    },
    {
     "name": "stderr",
     "output_type": "stream",
     "text": [
      "Evaluation fold: 100%|██████████| 1/1 [00:14<00:00, 14.01s/it]\n"
     ]
    },
    {
     "name": "stdout",
     "output_type": "stream",
     "text": [
      "Epochs=3, n_factors=50, learning_rate=0.001: RMSE=1.1407995550938346, Accuracy=0.328, MAP@K=0.0\n"
     ]
    },
    {
     "name": "stderr",
     "output_type": "stream",
     "text": [
      "Evaluation fold: 100%|██████████| 1/1 [00:14<00:00, 14.07s/it]\n"
     ]
    },
    {
     "name": "stdout",
     "output_type": "stream",
     "text": [
      "Epochs=3, n_factors=50, learning_rate=0.01: RMSE=1.1239369937246773, Accuracy=0.335, MAP@K=0.0\n"
     ]
    },
    {
     "name": "stderr",
     "output_type": "stream",
     "text": [
      "Evaluation fold: 100%|██████████| 1/1 [00:13<00:00, 13.76s/it]\n"
     ]
    },
    {
     "name": "stdout",
     "output_type": "stream",
     "text": [
      "Epochs=3, n_factors=50, learning_rate=0.1: RMSE=1.2853015210447702, Accuracy=0.312, MAP@K=0.000405236369910283\n"
     ]
    },
    {
     "name": "stderr",
     "output_type": "stream",
     "text": [
      "Evaluation fold: 100%|██████████| 1/1 [00:14<00:00, 14.82s/it]\n"
     ]
    },
    {
     "name": "stdout",
     "output_type": "stream",
     "text": [
      "Epochs=10, n_factors=5, learning_rate=0.001: RMSE=1.1347128152284665, Accuracy=0.328, MAP@K=0.0007959152864044168\n"
     ]
    },
    {
     "name": "stderr",
     "output_type": "stream",
     "text": [
      "Evaluation fold: 100%|██████████| 1/1 [00:14<00:00, 14.93s/it]\n"
     ]
    },
    {
     "name": "stdout",
     "output_type": "stream",
     "text": [
      "Epochs=10, n_factors=5, learning_rate=0.01: RMSE=1.1324496216423574, Accuracy=0.329, MAP@K=0.0009132375776397516\n"
     ]
    },
    {
     "name": "stderr",
     "output_type": "stream",
     "text": [
      "Evaluation fold: 100%|██████████| 1/1 [00:14<00:00, 14.68s/it]\n"
     ]
    },
    {
     "name": "stdout",
     "output_type": "stream",
     "text": [
      "Epochs=10, n_factors=5, learning_rate=0.1: RMSE=1.2853015210447702, Accuracy=0.312, MAP@K=0.0010516951345755695\n"
     ]
    },
    {
     "name": "stderr",
     "output_type": "stream",
     "text": [
      "Evaluation fold: 100%|██████████| 1/1 [00:14<00:00, 14.78s/it]\n"
     ]
    },
    {
     "name": "stdout",
     "output_type": "stream",
     "text": [
      "Epochs=10, n_factors=10, learning_rate=0.001: RMSE=1.1353685860754918, Accuracy=0.328, MAP@K=0.0\n"
     ]
    },
    {
     "name": "stderr",
     "output_type": "stream",
     "text": [
      "Evaluation fold: 100%|██████████| 1/1 [00:14<00:00, 14.86s/it]\n"
     ]
    },
    {
     "name": "stdout",
     "output_type": "stream",
     "text": [
      "Epochs=10, n_factors=10, learning_rate=0.01: RMSE=1.1456049065404936, Accuracy=0.326, MAP@K=0.0001754442719116632\n"
     ]
    },
    {
     "name": "stderr",
     "output_type": "stream",
     "text": [
      "Evaluation fold: 100%|██████████| 1/1 [00:14<00:00, 14.80s/it]\n"
     ]
    },
    {
     "name": "stdout",
     "output_type": "stream",
     "text": [
      "Epochs=10, n_factors=10, learning_rate=0.1: RMSE=1.2853015210447702, Accuracy=0.312, MAP@K=0.0005275189786059352\n"
     ]
    },
    {
     "name": "stderr",
     "output_type": "stream",
     "text": [
      "Evaluation fold: 100%|██████████| 1/1 [00:14<00:00, 14.95s/it]\n"
     ]
    },
    {
     "name": "stdout",
     "output_type": "stream",
     "text": [
      "Epochs=10, n_factors=20, learning_rate=0.001: RMSE=1.1332656918708586, Accuracy=0.327, MAP@K=0.0\n"
     ]
    },
    {
     "name": "stderr",
     "output_type": "stream",
     "text": [
      "Evaluation fold: 100%|██████████| 1/1 [00:14<00:00, 14.87s/it]\n"
     ]
    },
    {
     "name": "stdout",
     "output_type": "stream",
     "text": [
      "Epochs=10, n_factors=20, learning_rate=0.01: RMSE=1.1313971834512522, Accuracy=0.323, MAP@K=0.0005241761559696342\n"
     ]
    },
    {
     "name": "stderr",
     "output_type": "stream",
     "text": [
      "Evaluation fold: 100%|██████████| 1/1 [00:14<00:00, 14.89s/it]\n"
     ]
    },
    {
     "name": "stdout",
     "output_type": "stream",
     "text": [
      "Epochs=10, n_factors=20, learning_rate=0.1: RMSE=1.2853015210447702, Accuracy=0.312, MAP@K=0.00022979209799861973\n"
     ]
    },
    {
     "name": "stderr",
     "output_type": "stream",
     "text": [
      "Evaluation fold: 100%|██████████| 1/1 [00:15<00:00, 15.55s/it]\n"
     ]
    },
    {
     "name": "stdout",
     "output_type": "stream",
     "text": [
      "Epochs=10, n_factors=50, learning_rate=0.001: RMSE=1.134891179761967, Accuracy=0.328, MAP@K=0.00018752156659765357\n"
     ]
    },
    {
     "name": "stderr",
     "output_type": "stream",
     "text": [
      "Evaluation fold: 100%|██████████| 1/1 [00:15<00:00, 15.26s/it]\n"
     ]
    },
    {
     "name": "stdout",
     "output_type": "stream",
     "text": [
      "Epochs=10, n_factors=50, learning_rate=0.01: RMSE=1.1383307417835673, Accuracy=0.341, MAP@K=0.0010483523119392685\n"
     ]
    },
    {
     "name": "stderr",
     "output_type": "stream",
     "text": [
      "Evaluation fold: 100%|██████████| 1/1 [00:15<00:00, 15.08s/it]\n"
     ]
    },
    {
     "name": "stdout",
     "output_type": "stream",
     "text": [
      "Epochs=10, n_factors=50, learning_rate=0.1: RMSE=1.2853015210447702, Accuracy=0.312, MAP@K=0.00045958419599723946\n"
     ]
    },
    {
     "name": "stderr",
     "output_type": "stream",
     "text": [
      "Evaluation fold: 100%|██████████| 1/1 [00:17<00:00, 17.72s/it]\n"
     ]
    },
    {
     "name": "stdout",
     "output_type": "stream",
     "text": [
      "Epochs=30, n_factors=5, learning_rate=0.001: RMSE=1.1360938406369039, Accuracy=0.328, MAP@K=0.000753968253968254\n"
     ]
    },
    {
     "name": "stderr",
     "output_type": "stream",
     "text": [
      "Evaluation fold: 100%|██████████| 1/1 [00:17<00:00, 17.91s/it]\n"
     ]
    },
    {
     "name": "stdout",
     "output_type": "stream",
     "text": [
      "Epochs=30, n_factors=5, learning_rate=0.01: RMSE=1.1782114124390242, Accuracy=0.313, MAP@K=0.00035994651483781917\n"
     ]
    },
    {
     "name": "stderr",
     "output_type": "stream",
     "text": [
      "Evaluation fold: 100%|██████████| 1/1 [00:17<00:00, 17.80s/it]\n"
     ]
    },
    {
     "name": "stdout",
     "output_type": "stream",
     "text": [
      "Epochs=30, n_factors=5, learning_rate=0.1: RMSE=1.2853015210447702, Accuracy=0.312, MAP@K=0.00022979209799861973\n"
     ]
    },
    {
     "name": "stderr",
     "output_type": "stream",
     "text": [
      "Evaluation fold: 100%|██████████| 1/1 [00:17<00:00, 17.98s/it]\n"
     ]
    },
    {
     "name": "stdout",
     "output_type": "stream",
     "text": [
      "Epochs=30, n_factors=10, learning_rate=0.001: RMSE=1.1343548323155923, Accuracy=0.319, MAP@K=0.0002788561076604555\n"
     ]
    },
    {
     "name": "stderr",
     "output_type": "stream",
     "text": [
      "Evaluation fold: 100%|██████████| 1/1 [00:17<00:00, 17.74s/it]\n"
     ]
    },
    {
     "name": "stdout",
     "output_type": "stream",
     "text": [
      "Epochs=30, n_factors=10, learning_rate=0.01: RMSE=1.1642129200080746, Accuracy=0.327, MAP@K=0.0004278812974465148\n"
     ]
    },
    {
     "name": "stderr",
     "output_type": "stream",
     "text": [
      "Evaluation fold: 100%|██████████| 1/1 [00:17<00:00, 17.86s/it]\n"
     ]
    },
    {
     "name": "stdout",
     "output_type": "stream",
     "text": [
      "Epochs=30, n_factors=10, learning_rate=0.1: RMSE=1.2853015210447702, Accuracy=0.312, MAP@K=0.00022979209799861973\n"
     ]
    },
    {
     "name": "stderr",
     "output_type": "stream",
     "text": [
      "Evaluation fold: 100%|██████████| 1/1 [00:18<00:00, 18.11s/it]\n"
     ]
    },
    {
     "name": "stdout",
     "output_type": "stream",
     "text": [
      "Epochs=30, n_factors=20, learning_rate=0.001: RMSE=1.1184675289774038, Accuracy=0.34, MAP@K=0.0005241761559696342\n"
     ]
    },
    {
     "name": "stderr",
     "output_type": "stream",
     "text": [
      "Evaluation fold: 100%|██████████| 1/1 [00:18<00:00, 18.41s/it]\n"
     ]
    },
    {
     "name": "stdout",
     "output_type": "stream",
     "text": [
      "Epochs=30, n_factors=20, learning_rate=0.01: RMSE=1.1574101316838323, Accuracy=0.334, MAP@K=0.00013015441683919944\n"
     ]
    },
    {
     "name": "stderr",
     "output_type": "stream",
     "text": [
      "Evaluation fold: 100%|██████████| 1/1 [00:18<00:00, 18.10s/it]\n"
     ]
    },
    {
     "name": "stdout",
     "output_type": "stream",
     "text": [
      "Epochs=30, n_factors=20, learning_rate=0.1: RMSE=1.2853015210447702, Accuracy=0.312, MAP@K=0.000405236369910283\n"
     ]
    },
    {
     "name": "stderr",
     "output_type": "stream",
     "text": [
      "Evaluation fold: 100%|██████████| 1/1 [00:19<00:00, 19.09s/it]\n"
     ]
    },
    {
     "name": "stdout",
     "output_type": "stream",
     "text": [
      "Epochs=30, n_factors=50, learning_rate=0.001: RMSE=1.1251291662050267, Accuracy=0.337, MAP@K=0.0\n"
     ]
    },
    {
     "name": "stderr",
     "output_type": "stream",
     "text": [
      "Evaluation fold: 100%|██████████| 1/1 [00:18<00:00, 18.78s/it]\n"
     ]
    },
    {
     "name": "stdout",
     "output_type": "stream",
     "text": [
      "Epochs=30, n_factors=50, learning_rate=0.01: RMSE=1.1371887272715828, Accuracy=0.348, MAP@K=0.00022979209799861973\n"
     ]
    },
    {
     "name": "stderr",
     "output_type": "stream",
     "text": [
      "Evaluation fold: 100%|██████████| 1/1 [00:18<00:00, 18.69s/it]"
     ]
    },
    {
     "name": "stdout",
     "output_type": "stream",
     "text": [
      "Epochs=30, n_factors=50, learning_rate=0.1: RMSE=1.2853015210447702, Accuracy=0.312, MAP@K=0.00022979209799861973\n"
     ]
    },
    {
     "name": "stderr",
     "output_type": "stream",
     "text": [
      "\n"
     ]
    }
   ],
   "source": [
    "for epochs in [1, 3, 10, 30]:\n",
    "    for n_factors in [5, 10, 20, 50]:\n",
    "        for learning_rate in [1e-3, 1e-2, 0.1]:\n",
    "            nnmodel = NNColaborativeModel(learning_rate=learning_rate, n_embed=n_factors, epochs=epochs, batch_size=1024)\n",
    "            metrics = nnmodel.evaluate(review_df, user_df, business_df, short_eval=True, short_eval_train_samples=10_000)\n",
    "            print(f\"Epochs={epochs}, {n_factors=}, {learning_rate=}: RMSE={metrics['rmse']}, Accuracy={metrics['accuracy']}, MAP@K={metrics['MAP@K']}\")\n"
   ]
  },
  {
   "cell_type": "markdown",
   "metadata": {},
   "source": [
    "Best model found:"
   ]
  },
  {
   "cell_type": "code",
   "execution_count": 7,
   "metadata": {},
   "outputs": [
    {
     "name": "stderr",
     "output_type": "stream",
     "text": [
      "Evaluation fold: 100%|██████████| 1/1 [10:19<00:00, 619.19s/it]\n"
     ]
    },
    {
     "data": {
      "text/plain": [
       "{'rmse': 1.2567935022053274,\n",
       " 'mae': 0.9297294791340828,\n",
       " 'accuracy': 0.3495,\n",
       " 'f1': 0.21502334180449365,\n",
       " 'precision': 0.313925154998302,\n",
       " 'recall': 0.23354447453903235,\n",
       " 'AP@1': 0.0,\n",
       " 'AP@3': 8.804366966015144e-05,\n",
       " 'AP@K': 0.00010565240359218173,\n",
       " 'MAP@K': 7.805490570942235e-05}"
      ]
     },
     "execution_count": 7,
     "metadata": {},
     "output_type": "execute_result"
    }
   ],
   "source": [
    "nnmodel = NNColaborativeModel(learning_rate=0.01, n_embed=50, epochs=10, batch_size=1024)\n",
    "nnmodel.evaluate(review_df, user_df, business_df, short_eval=True, short_eval_train_samples=100_000)"
   ]
  },
  {
   "cell_type": "code",
   "execution_count": null,
   "metadata": {},
   "outputs": [],
   "source": []
  }
 ],
 "metadata": {
  "kernelspec": {
   "display_name": ".venv",
   "language": "python",
   "name": "python3"
  },
  "language_info": {
   "codemirror_mode": {
    "name": "ipython",
    "version": 3
   },
   "file_extension": ".py",
   "mimetype": "text/x-python",
   "name": "python",
   "nbconvert_exporter": "python",
   "pygments_lexer": "ipython3",
   "version": "3.11.5"
  }
 },
 "nbformat": 4,
 "nbformat_minor": 2
}
