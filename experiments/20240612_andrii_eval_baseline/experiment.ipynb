{
 "cells": [
  {
   "cell_type": "code",
   "execution_count": 1,
   "metadata": {},
   "outputs": [],
   "source": [
    "import sys\n",
    "sys.path.append('../../')\n",
    "\n",
    "from os.path import join as pjoin\n",
    "\n",
    "import pandas as pd\n",
    "\n",
    "from src.utils import read_json_df\n",
    "from src.models.median_baseline import MedianBaselineModel"
   ]
  },
  {
   "cell_type": "code",
   "execution_count": 2,
   "metadata": {},
   "outputs": [],
   "source": [
    "DATASET_PATH = \"../../data/yelp_dataset/\""
   ]
  },
  {
   "cell_type": "code",
   "execution_count": 3,
   "metadata": {},
   "outputs": [],
   "source": [
    "review_df = read_json_df(pjoin(DATASET_PATH, \"yelp_academic_dataset_review.json\"))\n",
    "business_df = read_json_df(pjoin(DATASET_PATH, \"yelp_academic_dataset_business.json\"))\n",
    "user_df = read_json_df(pjoin(DATASET_PATH, \"yelp_academic_dataset_user.json\"))"
   ]
  },
  {
   "cell_type": "code",
   "execution_count": 4,
   "metadata": {},
   "outputs": [],
   "source": [
    "review_df['date'] = pd.to_datetime(review_df['date'])"
   ]
  },
  {
   "cell_type": "code",
   "execution_count": 6,
   "metadata": {},
   "outputs": [],
   "source": [
    "model = MedianBaselineModel()"
   ]
  },
  {
   "cell_type": "code",
   "execution_count": 7,
   "metadata": {},
   "outputs": [
    {
     "name": "stderr",
     "output_type": "stream",
     "text": [
      "Evaluation fold: 100%|██████████| 1/1 [00:01<00:00,  1.13s/it]\n"
     ]
    },
    {
     "data": {
      "text/plain": [
       "{'rmse': 1.1968709203585823,\n",
       " 'mae': 0.835,\n",
       " 'accuracy': 0.39,\n",
       " 'f1': 0.18,\n",
       " 'precision': 0.40406504065040644,\n",
       " 'recall': 0.22773109243697479,\n",
       " 'AP@1': 0.045454545454545456,\n",
       " 'AP@3': 0.04545454545454545,\n",
       " 'AP@K': 0.04090909090909091,\n",
       " 'MAP@K': 0.04449494949494949}"
      ]
     },
     "execution_count": 7,
     "metadata": {},
     "output_type": "execute_result"
    }
   ],
   "source": [
    "model.evaluate(review_df, user_df, business_df, short_eval=True)"
   ]
  },
  {
   "cell_type": "code",
   "execution_count": 8,
   "metadata": {},
   "outputs": [
    {
     "name": "stderr",
     "output_type": "stream",
     "text": [
      "Evaluation fold: 100%|██████████| 1/1 [00:25<00:00, 25.89s/it]\n"
     ]
    },
    {
     "data": {
      "text/plain": [
       "{'rmse': 1.3628178528328723,\n",
       " 'mae': 0.955365,\n",
       " 'accuracy': 0.37147,\n",
       " 'f1': 0.28518166964410546,\n",
       " 'precision': 0.3696829983520982,\n",
       " 'recall': 0.28810055267012563,\n",
       " 'AP@1': 2.2837828579258684e-05,\n",
       " 'AP@3': 2.2837828579258684e-05,\n",
       " 'AP@K': 3.4256742868888025e-05,\n",
       " 'MAP@K': 3.2431529108625045e-05}"
      ]
     },
     "execution_count": 8,
     "metadata": {},
     "output_type": "execute_result"
    }
   ],
   "source": [
    "model.evaluate(review_df, user_df, business_df, short_eval=True, short_eval_train_samples=1_000_000)"
   ]
  },
  {
   "cell_type": "code",
   "execution_count": 9,
   "metadata": {},
   "outputs": [
    {
     "name": "stderr",
     "output_type": "stream",
     "text": [
      "Evaluation fold: 100%|██████████| 5/5 [14:05<00:00, 169.08s/it]\n"
     ]
    },
    {
     "data": {
      "text/plain": [
       "{'rmse': 1.5027757968432032,\n",
       " 'mae': 1.0355399700956014,\n",
       " 'accuracy': 0.37280107394901146,\n",
       " 'f1': 0.264317272929212,\n",
       " 'precision': 0.3480412799343832,\n",
       " 'recall': 0.27906819904114955,\n",
       " 'AP@1': 2.7959400908736054e-06,\n",
       " 'AP@3': 7.968222027137e-06,\n",
       " 'AP@K': 1.0027062767368152e-05,\n",
       " 'MAP@K': 8.74908613447963e-06}"
      ]
     },
     "execution_count": 9,
     "metadata": {},
     "output_type": "execute_result"
    }
   ],
   "source": [
    "model.evaluate(review_df, user_df, business_df)"
   ]
  },
  {
   "cell_type": "code",
   "execution_count": null,
   "metadata": {},
   "outputs": [],
   "source": []
  }
 ],
 "metadata": {
  "kernelspec": {
   "display_name": ".venv",
   "language": "python",
   "name": "python3"
  },
  "language_info": {
   "codemirror_mode": {
    "name": "ipython",
    "version": 3
   },
   "file_extension": ".py",
   "mimetype": "text/x-python",
   "name": "python",
   "nbconvert_exporter": "python",
   "pygments_lexer": "ipython3",
   "version": "3.11.5"
  }
 },
 "nbformat": 4,
 "nbformat_minor": 2
}
