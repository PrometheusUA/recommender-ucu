{
 "cells": [
  {
   "cell_type": "markdown",
   "id": "a3d44a7d",
   "metadata": {},
   "source": [
    "# Content-based filtering model"
   ]
  },
  {
   "cell_type": "code",
   "execution_count": 1,
   "id": "b053cb2d",
   "metadata": {},
   "outputs": [
    {
     "name": "stderr",
     "output_type": "stream",
     "text": [
      "[nltk_data] Downloading package stopwords to\n",
      "[nltk_data]     /Users/yehorhryha/nltk_data...\n",
      "[nltk_data]   Package stopwords is already up-to-date!\n"
     ]
    }
   ],
   "source": [
    "import pandas as pd\n",
    "import numpy as np\n",
    "import json\n",
    "import re\n",
    "import string\n",
    "from sklearn.metrics.pairwise import cosine_similarity\n",
    "import nltk\n",
    "from nltk.corpus import stopwords\n",
    "nltk.download('stopwords')\n",
    "from scipy.sparse import csr_matrix"
   ]
  },
  {
   "cell_type": "code",
   "execution_count": 2,
   "id": "553ac57e",
   "metadata": {},
   "outputs": [],
   "source": [
    "data_file = open(\"yelp_academic_dataset_review.json\")\n",
    "data = []\n",
    "for line in data_file:\n",
    "    data.append(json.loads(line))\n",
    "review_df = pd.DataFrame(data)\n",
    "data_file.close()"
   ]
  },
  {
   "cell_type": "code",
   "execution_count": 4,
   "id": "58c7c83d",
   "metadata": {},
   "outputs": [],
   "source": [
    "def preprocess_text(text):\n",
    "    text = re.sub(f'[{re.escape(string.punctuation)}]', '', text)\n",
    "    text = text.lower()\n",
    "    text = re.sub(r'\\d+', '', text)\n",
    "    stop_words = set(stopwords.words(\"english\"))\n",
    "    word_tokens = text.split()\n",
    "    filtered_text = [word for word in word_tokens if word not in stop_words]\n",
    "    filtered_text = ' '.join(filtered_text)\n",
    "    return filtered_text"
   ]
  },
  {
   "cell_type": "code",
   "execution_count": 5,
   "id": "c469c6d9",
   "metadata": {},
   "outputs": [],
   "source": [
    "review_df['cleaned_text'] = review_df['text'].apply(preprocess_text)"
   ]
  },
  {
   "cell_type": "code",
   "execution_count": 6,
   "id": "df037f82",
   "metadata": {},
   "outputs": [],
   "source": [
    "def load_glove_vectors(glove_file):\n",
    "    embeddings_index = {}\n",
    "    with open(glove_file, 'r', encoding='utf-8') as f:\n",
    "        for line in f:\n",
    "            values = line.split()\n",
    "            word = values[0]\n",
    "            vector = np.asarray(values[1:], dtype='float32')\n",
    "            embeddings_index[word] = vector\n",
    "    return embeddings_index"
   ]
  },
  {
   "cell_type": "code",
   "execution_count": 7,
   "id": "109a0486",
   "metadata": {},
   "outputs": [],
   "source": [
    "glove_file = 'glove.42B.300d.txt'\n",
    "embeddings_index = load_glove_vectors(glove_file)"
   ]
  },
  {
   "cell_type": "code",
   "execution_count": 8,
   "id": "8e72ba6d",
   "metadata": {},
   "outputs": [],
   "source": [
    "def get_average_vector(text, embeddings_index):\n",
    "    words = text.split()\n",
    "    word_vectors = [embeddings_index[word] for word in words if word in embeddings_index]\n",
    "    if word_vectors:\n",
    "        return np.mean(word_vectors, axis=0)\n",
    "    else:\n",
    "        return np.zeros(100) "
   ]
  },
  {
   "cell_type": "code",
   "execution_count": 9,
   "id": "39f57b80",
   "metadata": {},
   "outputs": [],
   "source": [
    "review_df['review_vector'] = review_df['cleaned_text'].apply(lambda x: get_average_vector(x, embeddings_index))"
   ]
  },
  {
   "cell_type": "code",
   "execution_count": 10,
   "id": "6d70ccb6",
   "metadata": {},
   "outputs": [],
   "source": [
    "review_df_filtered = review_df[review_df['review_vector'].apply(lambda x: x.shape == (300,))]"
   ]
  },
  {
   "cell_type": "code",
   "execution_count": 11,
   "id": "3ae84769",
   "metadata": {},
   "outputs": [],
   "source": [
    "restaurant_vectors = review_df_filtered.groupby('business_id')['review_vector'].apply(lambda x: np.mean(np.vstack(x.tolist()), axis=0))"
   ]
  },
  {
   "cell_type": "code",
   "execution_count": 12,
   "id": "ec044cbb",
   "metadata": {},
   "outputs": [
    {
     "data": {
      "text/plain": [
       "business_id\n",
       "---kPU91CF4Lq2-WlRu9Lw    [-0.025884377, -0.0106101185, 0.033193346, -0....\n",
       "--0iUa4sNDFiZFrAdIWhZQ    [-0.003858616, -0.0048574656, 0.051284056, -0....\n",
       "--30_8IhuyMHbSOcNWd6DQ    [-0.009566194, 0.10207854, -0.014852737, -0.08...\n",
       "--7PUidqRWpRSpXebiyxTg    [-0.038481254, -0.015079212, -0.007890894, -0....\n",
       "--7jw19RH9JKXgFohspgQw    [0.031710885, 0.018421413, -0.10190451, -0.099...\n",
       "                                                ...                        \n",
       "zznZqH9CiAznbkV6fXyHWA    [-0.07251118, -0.018787667, 0.07007505, -0.165...\n",
       "zztOG2cKm87I6Iw_tleZsQ    [0.0117372675, 0.10366254, -0.0061136256, -0.1...\n",
       "zzu6_r3DxBJuXcjnOYVdTw    [-0.021689672, 0.04261571, -0.008005011, -0.24...\n",
       "zzw66H6hVjXQEt0Js3Mo4A    [0.10033436, 0.04741541, -0.099287316, -0.1292...\n",
       "zzyx5x0Z7xXWWvWnZFuxlQ    [-0.051175635, 0.0117875505, -0.007867022, -0....\n",
       "Name: review_vector, Length: 150346, dtype: object"
      ]
     },
     "execution_count": 12,
     "metadata": {},
     "output_type": "execute_result"
    }
   ],
   "source": [
    "restaurant_vectors"
   ]
  },
  {
   "cell_type": "code",
   "execution_count": 13,
   "id": "a9f52eb0",
   "metadata": {},
   "outputs": [],
   "source": [
    "user_vectors = review_df_filtered.groupby('user_id')['review_vector'].apply(lambda x: np.mean(x.tolist(), axis=0))"
   ]
  },
  {
   "cell_type": "code",
   "execution_count": 14,
   "id": "d089d202",
   "metadata": {},
   "outputs": [
    {
     "data": {
      "text/plain": [
       "user_id\n",
       "---1lKK3aKOuomHnwAkAow    [-0.0655955, 0.0407599, -0.015283876, -0.15097...\n",
       "---2PmXbF47D870stH1jqA    [-0.058902245, -0.018425545, 0.042226803, -0.1...\n",
       "---UgP94gokyCDuB5zUssA    [-0.014254823, 0.04881997, 0.025271298, -0.131...\n",
       "---fa6ZK37T9NjkGKI4oSg    [0.09433105, 0.090054296, -0.0765643, -0.08695...\n",
       "---r61b7EpVPkb4UVme5tA    [-0.03895425, 0.026585538, 0.0327577, -0.11054...\n",
       "                                                ...                        \n",
       "zzz-M4QvkEpUWWPL9RTzLA    [-0.037178814, -0.0014889237, -0.03132782, -0....\n",
       "zzzCg-_lpyYE82TlJCdwdw    [0.07843564, 0.16667348, -0.12678836, -0.07372...\n",
       "zzzGgfvrSJ4AQeKtcgocIw    [-0.063432775, 0.040489618, -0.027906371, -0.1...\n",
       "zzzMBVS73g3ZJ7qL8JyhiA    [0.005521926, 0.020848595, -0.045905232, -0.07...\n",
       "zzzUFM4HFe0SFG0bPjntQA    [0.059421435, -0.052394625, -0.013942088, -0.0...\n",
       "Name: review_vector, Length: 1987762, dtype: object"
      ]
     },
     "execution_count": 14,
     "metadata": {},
     "output_type": "execute_result"
    }
   ],
   "source": [
    "user_vectors"
   ]
  },
  {
   "cell_type": "code",
   "execution_count": 15,
   "id": "b2dd9d63",
   "metadata": {},
   "outputs": [],
   "source": [
    "def recommend_restaurants(user_id, user_vectors, restaurant_vectors, reviews_df, top_n=5):\n",
    "    user_vector = user_vectors[user_id]\n",
    "    visited_restaurants = reviews_df[reviews_df['user_id'] == user_id]['business_id'].unique()\n",
    "    unvisited_restaurant_vectors = restaurant_vectors[~restaurant_vectors.index.isin(visited_restaurants)]\n",
    "    similarities = cosine_similarity([user_vector], unvisited_restaurant_vectors.tolist())\n",
    "    similarity_scores = list(zip(unvisited_restaurant_vectors.index, similarities[0]))\n",
    "    similarity_scores.sort(key=lambda x: x[1], reverse=True)\n",
    "    return [restaurant for restaurant, score in similarity_scores[:top_n]]"
   ]
  },
  {
   "cell_type": "code",
   "execution_count": 16,
   "id": "b11b807c",
   "metadata": {},
   "outputs": [
    {
     "name": "stdout",
     "output_type": "stream",
     "text": [
      "['34sfjPk297c7RVM67pU4tg', 'FiWGTyWJs4p4dLQc8P6-pg', 'ZU3LP5gHs3UybWmh9J13NA', 'chUeS0h9C8KGfyJO2Jqgew', 'XkfH7V4sy1bUSjLVR8E7gg']\n"
     ]
    }
   ],
   "source": [
    "user_id = 'bcjbaE6dDog4jkNY91ncLQ'\n",
    "recommended_restaurants = recommend_restaurants(user_id, user_vectors, restaurant_vectors, review_df_filtered)\n",
    "print(recommended_restaurants)"
   ]
  },
  {
   "cell_type": "markdown",
   "id": "7fe540b2",
   "metadata": {},
   "source": [
    "# User-user collaborative filtering model"
   ]
  },
  {
   "cell_type": "code",
   "execution_count": 2,
   "id": "888d82e6",
   "metadata": {},
   "outputs": [],
   "source": [
    "data_file = open(\"yelp_academic_dataset_review.json\")\n",
    "data = []\n",
    "for line in data_file:\n",
    "    data.append(json.loads(line))\n",
    "review_df_filtered = pd.DataFrame(data)\n",
    "data_file.close()"
   ]
  },
  {
   "cell_type": "code",
   "execution_count": 3,
   "id": "ec8a5ed8",
   "metadata": {},
   "outputs": [],
   "source": [
    "data_file = open(\"yelp_academic_dataset_user.json\")\n",
    "data = []\n",
    "for line in data_file:\n",
    "    data.append(json.loads(line))\n",
    "user_df = pd.DataFrame(data)\n",
    "data_file.close()"
   ]
  },
  {
   "cell_type": "code",
   "execution_count": 4,
   "id": "1ed2458f",
   "metadata": {},
   "outputs": [],
   "source": [
    "filtered_user_df = user_df[user_df['review_count'] >= 10]"
   ]
  },
  {
   "cell_type": "code",
   "execution_count": 5,
   "id": "108b3b72",
   "metadata": {},
   "outputs": [],
   "source": [
    "review_df_filtered = review_df_filtered.merge(filtered_user_df[['user_id']], on='user_id', how='inner')"
   ]
  },
  {
   "cell_type": "code",
   "execution_count": 6,
   "id": "4a31d248",
   "metadata": {},
   "outputs": [],
   "source": [
    "data_file = open(\"yelp_academic_dataset_business.json\")\n",
    "data = []\n",
    "for line in data_file:\n",
    "    data.append(json.loads(line))\n",
    "business_df = pd.DataFrame(data)\n",
    "data_file.close()"
   ]
  },
  {
   "cell_type": "code",
   "execution_count": 7,
   "id": "594058c0",
   "metadata": {},
   "outputs": [],
   "source": [
    "filtered_business_df = business_df[business_df[\"review_count\"] >= 10]"
   ]
  },
  {
   "cell_type": "code",
   "execution_count": 8,
   "id": "5ed16789",
   "metadata": {},
   "outputs": [],
   "source": [
    "review_df_filtered = review_df_filtered.merge(filtered_business_df[['business_id']], on='business_id', how='inner')"
   ]
  },
  {
   "cell_type": "code",
   "execution_count": 9,
   "id": "4e253f6f",
   "metadata": {},
   "outputs": [],
   "source": [
    "review_df_filtered_sample = review_df_filtered.sample(frac=0.1, random_state=42)"
   ]
  },
  {
   "cell_type": "code",
   "execution_count": null,
   "id": "40c2258a",
   "metadata": {},
   "outputs": [
    {
     "name": "stderr",
     "output_type": "stream",
     "text": [
      "/var/folders/qq/zzvhzqjs3nv95w4450ld0gm40000gn/T/ipykernel_24608/111323076.py:1: PerformanceWarning: The following operation may generate 17478297861 cells in the resulting pandas object.\n",
      "  user_item_matrix = review_df_filtered_sample.pivot_table(index='user_id', columns='business_id', values='stars').fillna(0)\n"
     ]
    }
   ],
   "source": [
    "user_item_matrix = review_df_filtered_sample.pivot_table(index='user_id', columns='business_id', values='stars').fillna(0)\n",
    "user_item_sparse_matrix = csr_matrix(user_item_matrix.values)\n",
    "user_similarity = cosine_similarity(user_item_sparse_matrix)\n",
    "user_similarity_df = pd.DataFrame(user_similarity, index=user_item_matrix.index, columns=user_item_matrix.index)"
   ]
  },
  {
   "cell_type": "code",
   "execution_count": null,
   "id": "968f8eb8",
   "metadata": {},
   "outputs": [],
   "source": [
    "def get_user_based_recommendations(user_id, n_recommendations=5):\n",
    "    similar_users = user_similarity_df[user_id].sort_values(ascending=False)[1:n_recommendations+1]\n",
    "    similar_users_ratings = user_item_matrix.loc[similar_users.index]\n",
    "    recommendations = similar_users_ratings.mean().sort_values(ascending=False)\n",
    "    user_rated_businesses = user_item_matrix.loc[user_id]\n",
    "    recommendations = recommendations[~recommendations.index.isin(user_rated_businesses[user_rated_businesses > 0].index)]\n",
    "    return recommendations.head(n_recommendations).index.tolist()"
   ]
  },
  {
   "cell_type": "code",
   "execution_count": null,
   "id": "f5e5ce94",
   "metadata": {},
   "outputs": [],
   "source": [
    "user_id = 'bcjbaE6dDog4jkNY91ncLQ'\n",
    "recommended_restaurants = get_user_based_recommendations(user_id)\n",
    "print(recommended_restaurants)"
   ]
  },
  {
   "cell_type": "markdown",
   "id": "f8ab8a9f",
   "metadata": {},
   "source": [
    "# Item-item collaborative filtering model"
   ]
  },
  {
   "cell_type": "code",
   "execution_count": null,
   "id": "0f01f29d",
   "metadata": {},
   "outputs": [],
   "source": [
    "item_user_matrix = user_item_matrix.T\n",
    "item_similarity = cosine_similarity(item_user_matrix)\n",
    "item_similarity_df = pd.DataFrame(item_similarity, index=item_user_matrix.index, columns=item_user_matrix.index)"
   ]
  },
  {
   "cell_type": "code",
   "execution_count": null,
   "id": "c33854ff",
   "metadata": {},
   "outputs": [],
   "source": [
    "def get_item_based_recommendations(business_id, n_recommendations=5):\n",
    "    similar_items = item_similarity_df[business_id].sort_values(ascending=False)[1:n_recommendations+1]\n",
    "    return similar_items.index"
   ]
  },
  {
   "cell_type": "code",
   "execution_count": null,
   "id": "7af69a14",
   "metadata": {},
   "outputs": [],
   "source": [
    "user_id = 'bcjbaE6dDog4jkNY91ncLQ'\n",
    "recommended_restaurants = get_item_based_recommendations(user_id)\n",
    "print(recommended_restaurants)"
   ]
  },
  {
   "cell_type": "code",
   "execution_count": null,
   "id": "b4726ecc",
   "metadata": {},
   "outputs": [],
   "source": []
  }
 ],
 "metadata": {
  "kernelspec": {
   "display_name": "Python 3 (ipykernel)",
   "language": "python",
   "name": "python3"
  },
  "language_info": {
   "codemirror_mode": {
    "name": "ipython",
    "version": 3
   },
   "file_extension": ".py",
   "mimetype": "text/x-python",
   "name": "python",
   "nbconvert_exporter": "python",
   "pygments_lexer": "ipython3",
   "version": "3.10.13"
  }
 },
 "nbformat": 4,
 "nbformat_minor": 5
}
