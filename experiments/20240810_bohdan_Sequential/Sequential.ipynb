{
 "cells": [
  {
   "cell_type": "code",
   "execution_count": 16,
   "id": "4af730a8-40b0-49c3-ad9f-530734f2d4b0",
   "metadata": {},
   "outputs": [
    {
     "name": "stdout",
     "output_type": "stream",
     "text": [
      "The autoreload extension is already loaded. To reload it, use:\n",
      "  %reload_ext autoreload\n"
     ]
    }
   ],
   "source": [
    "%load_ext autoreload\n",
    "%autoreload 2"
   ]
  },
  {
   "cell_type": "code",
   "execution_count": 17,
   "id": "921d8523-c58c-4d1c-87c7-b2e4af6f5e5e",
   "metadata": {},
   "outputs": [],
   "source": [
    "\n",
    "import sys\n",
    "sys.path.append('../../')\n",
    "import random\n",
    "import warnings\n",
    "\n",
    "from src.utils import read_json_df\n",
    "from src.models.median_baseline import MedianBaselineModel\n",
    "\n",
    "from src.models.factorization import FunkSVDModel, AlternatingLeastSquaresModel\n",
    "from src.models.nn import NNColaborativeModel\n",
    "import pandas as pd\n",
    "#from bandit import GreadyBandit,ThompsonBandit\n",
    "warnings.filterwarnings(\"ignore\")"
   ]
  },
  {
   "cell_type": "code",
   "execution_count": 18,
   "id": "e0e05051-4753-4870-8e8f-042dfc244059",
   "metadata": {},
   "outputs": [],
   "source": [
    "review_df = read_json_df(\"../../data/yelp_dataset/yelp_academic_dataset_review.json\")\n",
    "user_df = read_json_df(\"../../data/yelp_dataset/yelp_academic_dataset_user.json\")\n",
    "business_df = read_json_df(\"../../data/yelp_dataset/yelp_academic_dataset_business.json\")"
   ]
  },
  {
   "cell_type": "code",
   "execution_count": 19,
   "id": "d3cbdcc9-08f9-478e-adba-6977668e242e",
   "metadata": {},
   "outputs": [],
   "source": [
    "review_df = review_df[review_df.date < ' -01-01']\n"
   ]
  },
  {
   "cell_type": "code",
   "execution_count": 20,
   "id": "dce3378d-c49e-4f9a-bf18-36f2f5401a2a",
   "metadata": {},
   "outputs": [],
   "source": [
    "review_df = review_df.sort_values('date')"
   ]
  },
  {
   "cell_type": "code",
   "execution_count": 21,
   "id": "6ea599f2-8ba9-468b-bcb0-1e063c07d5e4",
   "metadata": {},
   "outputs": [],
   "source": [
    "train_df,test_df = review_df[review_df.date < '2014-01-01'],review_df[review_df.date >= '2014-01-01']"
   ]
  },
  {
   "cell_type": "code",
   "execution_count": 22,
   "id": "23ef49be-a890-436f-9e4d-8ea30e9183e0",
   "metadata": {},
   "outputs": [],
   "source": [
    "user_df = user_df[user_df.user_id.isin(review_df.user_id.unique())]\n",
    "business_df = business_df[business_df.business_id.isin(review_df.business_id.unique())]\n"
   ]
  },
  {
   "cell_type": "code",
   "execution_count": 23,
   "id": "178556f9-07d4-47f6-9adb-8bc13863c5a4",
   "metadata": {},
   "outputs": [],
   "source": [
    "user_df = user_df.reset_index(drop=True).reset_index()\n",
    "business_df = business_df.reset_index(drop=True).reset_index()\n"
   ]
  },
  {
   "cell_type": "code",
   "execution_count": 24,
   "id": "798b1741-2ae2-4505-bb99-6fa427732e49",
   "metadata": {},
   "outputs": [],
   "source": [
    "from src.models.sequential_model import SequentialModel\n",
    "model_seq = SequentialModel()\n"
   ]
  },
  {
   "cell_type": "code",
   "execution_count": 25,
   "id": "e5a06c6b-8457-4b12-a603-3a8628a9411b",
   "metadata": {},
   "outputs": [
    {
     "name": "stderr",
     "output_type": "stream",
     "text": [
      "Evaluation fold: 100%|███████████████████████████| 5/5 [36:57<00:00, 443.59s/it]\n"
     ]
    },
    {
     "data": {
      "text/plain": [
       "{'rmse': np.float64(1.3844743039200635),\n",
       " 'mae': np.float64(1.033851573015794),\n",
       " 'accuracy': 0.29164115206290575,\n",
       " 'f1': np.float64(0.09016305401990808),\n",
       " 'precision': np.float64(0.8583282304125811),\n",
       " 'recall': np.float64(0.2),\n",
       " 'AP@1': np.float64(0.0009432805490936615),\n",
       " 'AP@3': np.float64(0.000923088055056138),\n",
       " 'AP@K': np.float64(0.000897166025676196),\n",
       " 'MAP@K': np.float64(0.0009371031867351921)}"
      ]
     },
     "execution_count": 25,
     "metadata": {},
     "output_type": "execute_result"
    }
   ],
   "source": [
    "model_seq.evaluate(review_df, user_df, business_df)"
   ]
  },
  {
   "cell_type": "code",
   "execution_count": 26,
   "id": "0093fe28-2b89-4725-a656-68c2ab672872",
   "metadata": {},
   "outputs": [],
   "source": [
    "median = MedianBaselineModel()"
   ]
  },
  {
   "cell_type": "code",
   "execution_count": 27,
   "id": "de9dbbce-e874-4d31-bcfe-ced1bda1e509",
   "metadata": {},
   "outputs": [
    {
     "name": "stderr",
     "output_type": "stream",
     "text": [
      "Evaluation fold: 100%|████████████████████████████| 5/5 [01:23<00:00, 16.74s/it]\n"
     ]
    },
    {
     "data": {
      "text/plain": [
       "{'rmse': np.float64(1.3610127825154232),\n",
       " 'mae': np.float64(0.9589928552555484),\n",
       " 'accuracy': 0.3645783282621986,\n",
       " 'f1': np.float64(0.26969697466078174),\n",
       " 'precision': np.float64(0.3587912378303729),\n",
       " 'recall': np.float64(0.27759942335166415),\n",
       " 'AP@1': np.float64(4.501981642795329e-05),\n",
       " 'AP@3': np.float64(4.431728741866215e-05),\n",
       " 'AP@K': np.float64(3.842530676517355e-05),\n",
       " 'MAP@K': np.float64(4.137579798205162e-05)}"
      ]
     },
     "execution_count": 27,
     "metadata": {},
     "output_type": "execute_result"
    }
   ],
   "source": [
    "median.evaluate(review_df, user_df, business_df)"
   ]
  },
  {
   "cell_type": "markdown",
   "id": "21f4c7dc-8daa-4f80-90d1-aadbf26962e6",
   "metadata": {},
   "source": [
    "As we can see, the Sequence model gives results much higher than the Median Model data, and the results of this model are also higher than the PageRank and Factorization models. \n",
    "For me, these results are expected because the Sequential Model is designed specifically for such tasks.\n",
    "This type of model tries to predict the next value based on the previous ones, and also takes into account not only the visited restaurants, but also the order in which they were visited."
   ]
  },
  {
   "cell_type": "code",
   "execution_count": null,
   "id": "8ba0cc0b-3392-485d-91b5-cb2b1e5bc325",
   "metadata": {},
   "outputs": [],
   "source": []
  }
 ],
 "metadata": {
  "kernelspec": {
   "display_name": "Python 3 (ipykernel)",
   "language": "python",
   "name": "python3"
  },
  "language_info": {
   "codemirror_mode": {
    "name": "ipython",
    "version": 3
   },
   "file_extension": ".py",
   "mimetype": "text/x-python",
   "name": "python",
   "nbconvert_exporter": "python",
   "pygments_lexer": "ipython3",
   "version": "3.11.9"
  }
 },
 "nbformat": 4,
 "nbformat_minor": 5
}
