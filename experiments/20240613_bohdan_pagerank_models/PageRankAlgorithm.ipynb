{
 "cells": [
  {
   "cell_type": "code",
   "execution_count": 1,
   "id": "0788eb22-1928-4678-ad20-48df250cbadd",
   "metadata": {},
   "outputs": [],
   "source": [
    "import os\n",
    "import pandas as pd\n",
    "\n",
    "import numpy as np\n",
    "\n",
    "import sys\n",
    "sys.path.append('../../')\n",
    "from src.models._base import BaseModel\n",
    "from src.utils import read_json_df\n",
    "import random\n",
    "from typing import Iterable, Union\n",
    "import networkx as nx\n",
    "import sklearn.metrics.pairwise\n",
    "from scipy import sparse\n",
    "import warnings\n",
    "\n",
    "from src.models.median_baseline import MedianBaselineModel\n",
    "\n",
    "from src.models.page_rank import PageRankModel\n",
    "median = MedianBaselineModel()\n",
    "page_rank = PageRankModel()\n",
    "\n",
    "\n",
    "warnings.filterwarnings(\"ignore\")"
   ]
  },
  {
   "cell_type": "code",
   "execution_count": 2,
   "id": "4f2e23bb-272f-4d79-906c-d6cdde46fd13",
   "metadata": {},
   "outputs": [],
   "source": [
    "review_df = read_json_df(\"../../data/yelp_dataset/yelp_academic_dataset_review.json\")\n",
    "user_df = read_json_df(\"../../data/yelp_dataset/yelp_academic_dataset_user.json\")\n",
    "business_df = read_json_df(\"../../data/yelp_dataset/yelp_academic_dataset_business.json\")"
   ]
  },
  {
   "cell_type": "markdown",
   "id": "75cfb7bd-bfa9-4a2d-8ec2-a7ecfdedda1d",
   "metadata": {},
   "source": [
    "### Let's took 10k users and 10k bussiness from our dataset only"
   ]
  },
  {
   "cell_type": "code",
   "execution_count": 3,
   "id": "92e0f804-1dcf-4683-90d8-cc80a2d0007e",
   "metadata": {},
   "outputs": [],
   "source": [
    "\n",
    "review_df = review_df[review_df.business_id.isin(random.sample(list(review_df.business_id.unique()),10000))]\n",
    "review_df = review_df[review_df.user_id.isin(random.sample(list(review_df.user_id.to_list()),1000))]\n",
    "review_df = review_df.groupby(['user_id','business_id']).agg({'stars':'last','date':'last'}).reset_index() # Drop Duplicates\n"
   ]
  },
  {
   "cell_type": "code",
   "execution_count": 4,
   "id": "5241e968-d352-476d-b85a-2e8264d0f1f8",
   "metadata": {},
   "outputs": [
    {
     "data": {
      "text/html": [
       "<div>\n",
       "<style scoped>\n",
       "    .dataframe tbody tr th:only-of-type {\n",
       "        vertical-align: middle;\n",
       "    }\n",
       "\n",
       "    .dataframe tbody tr th {\n",
       "        vertical-align: top;\n",
       "    }\n",
       "\n",
       "    .dataframe thead th {\n",
       "        text-align: right;\n",
       "    }\n",
       "</style>\n",
       "<table border=\"1\" class=\"dataframe\">\n",
       "  <thead>\n",
       "    <tr style=\"text-align: right;\">\n",
       "      <th></th>\n",
       "      <th>user_id</th>\n",
       "      <th>business_id</th>\n",
       "      <th>stars</th>\n",
       "      <th>date</th>\n",
       "    </tr>\n",
       "  </thead>\n",
       "  <tbody>\n",
       "    <tr>\n",
       "      <th>0</th>\n",
       "      <td>--ZSfjyws1G8_8esn45CqA</td>\n",
       "      <td>YW9kZK0fpgb8xAn98V3pyg</td>\n",
       "      <td>1.0</td>\n",
       "      <td>2013-12-06 22:19:54</td>\n",
       "    </tr>\n",
       "    <tr>\n",
       "      <th>1</th>\n",
       "      <td>-0Q9kNv6aGzDeLqTJVQOrg</td>\n",
       "      <td>JozdEQAPQPzafLC8guMzfQ</td>\n",
       "      <td>1.0</td>\n",
       "      <td>2018-01-02 00:05:24</td>\n",
       "    </tr>\n",
       "    <tr>\n",
       "      <th>2</th>\n",
       "      <td>-0Q9kNv6aGzDeLqTJVQOrg</td>\n",
       "      <td>Ra9zH1CBYtAC6vMfKYsHew</td>\n",
       "      <td>4.0</td>\n",
       "      <td>2021-05-06 05:52:52</td>\n",
       "    </tr>\n",
       "    <tr>\n",
       "      <th>3</th>\n",
       "      <td>-2Pn4YRNRgJM8foLYkkv7g</td>\n",
       "      <td>Ksz_jsyyK3Zjlq_Cz81ZBA</td>\n",
       "      <td>5.0</td>\n",
       "      <td>2012-08-31 02:21:22</td>\n",
       "    </tr>\n",
       "    <tr>\n",
       "      <th>4</th>\n",
       "      <td>-4IniEqY0JOpucm7emnQxA</td>\n",
       "      <td>tcnXO16nGdIvM0EfaHXGPA</td>\n",
       "      <td>4.0</td>\n",
       "      <td>2013-01-20 07:01:32</td>\n",
       "    </tr>\n",
       "    <tr>\n",
       "      <th>...</th>\n",
       "      <td>...</td>\n",
       "      <td>...</td>\n",
       "      <td>...</td>\n",
       "      <td>...</td>\n",
       "    </tr>\n",
       "    <tr>\n",
       "      <th>3954</th>\n",
       "      <td>zeD7wF1nxJFwsqXRMiZSRw</td>\n",
       "      <td>IDtLPgUrqorrpqSLdfMhZQ</td>\n",
       "      <td>5.0</td>\n",
       "      <td>2019-07-12 17:36:48</td>\n",
       "    </tr>\n",
       "    <tr>\n",
       "      <th>3955</th>\n",
       "      <td>zjkNgwEDnJPTm2w4Y_-M1Q</td>\n",
       "      <td>PRMD-xnN2WnGvTE3pc-gng</td>\n",
       "      <td>1.0</td>\n",
       "      <td>2016-03-17 02:18:06</td>\n",
       "    </tr>\n",
       "    <tr>\n",
       "      <th>3956</th>\n",
       "      <td>zjuPb-M2u7UsNGFmvhI-Yg</td>\n",
       "      <td>ajq1w3VWgh5BzcnJO9uFig</td>\n",
       "      <td>3.0</td>\n",
       "      <td>2021-08-17 13:57:27</td>\n",
       "    </tr>\n",
       "    <tr>\n",
       "      <th>3957</th>\n",
       "      <td>zpYe74-itYGnGyz1z0T69Q</td>\n",
       "      <td>t8e4ZUR8p0CEWgMLIYtBwA</td>\n",
       "      <td>5.0</td>\n",
       "      <td>2020-10-03 21:36:28</td>\n",
       "    </tr>\n",
       "    <tr>\n",
       "      <th>3958</th>\n",
       "      <td>zuGz2YPoDuCBVVawMTKYig</td>\n",
       "      <td>cJAig2ziK5u7yAWpgNoKLw</td>\n",
       "      <td>2.0</td>\n",
       "      <td>2021-06-21 20:43:28</td>\n",
       "    </tr>\n",
       "  </tbody>\n",
       "</table>\n",
       "<p>3959 rows × 4 columns</p>\n",
       "</div>"
      ],
      "text/plain": [
       "                     user_id             business_id  stars  \\\n",
       "0     --ZSfjyws1G8_8esn45CqA  YW9kZK0fpgb8xAn98V3pyg    1.0   \n",
       "1     -0Q9kNv6aGzDeLqTJVQOrg  JozdEQAPQPzafLC8guMzfQ    1.0   \n",
       "2     -0Q9kNv6aGzDeLqTJVQOrg  Ra9zH1CBYtAC6vMfKYsHew    4.0   \n",
       "3     -2Pn4YRNRgJM8foLYkkv7g  Ksz_jsyyK3Zjlq_Cz81ZBA    5.0   \n",
       "4     -4IniEqY0JOpucm7emnQxA  tcnXO16nGdIvM0EfaHXGPA    4.0   \n",
       "...                      ...                     ...    ...   \n",
       "3954  zeD7wF1nxJFwsqXRMiZSRw  IDtLPgUrqorrpqSLdfMhZQ    5.0   \n",
       "3955  zjkNgwEDnJPTm2w4Y_-M1Q  PRMD-xnN2WnGvTE3pc-gng    1.0   \n",
       "3956  zjuPb-M2u7UsNGFmvhI-Yg  ajq1w3VWgh5BzcnJO9uFig    3.0   \n",
       "3957  zpYe74-itYGnGyz1z0T69Q  t8e4ZUR8p0CEWgMLIYtBwA    5.0   \n",
       "3958  zuGz2YPoDuCBVVawMTKYig  cJAig2ziK5u7yAWpgNoKLw    2.0   \n",
       "\n",
       "                     date  \n",
       "0     2013-12-06 22:19:54  \n",
       "1     2018-01-02 00:05:24  \n",
       "2     2021-05-06 05:52:52  \n",
       "3     2012-08-31 02:21:22  \n",
       "4     2013-01-20 07:01:32  \n",
       "...                   ...  \n",
       "3954  2019-07-12 17:36:48  \n",
       "3955  2016-03-17 02:18:06  \n",
       "3956  2021-08-17 13:57:27  \n",
       "3957  2020-10-03 21:36:28  \n",
       "3958  2021-06-21 20:43:28  \n",
       "\n",
       "[3959 rows x 4 columns]"
      ]
     },
     "execution_count": 4,
     "metadata": {},
     "output_type": "execute_result"
    }
   ],
   "source": [
    "review_df\n"
   ]
  },
  {
   "cell_type": "code",
   "execution_count": 5,
   "id": "4ba21941-8803-4e9f-9030-3c97f157d2e3",
   "metadata": {},
   "outputs": [],
   "source": [
    "user_df = user_df[user_df.user_id.isin(review_df.user_id.unique())]\n",
    "business_df = business_df[business_df.business_id.isin(review_df.business_id.unique())]\n"
   ]
  },
  {
   "cell_type": "code",
   "execution_count": 6,
   "id": "63112a98-54c5-4317-b651-ed452b6f5ad4",
   "metadata": {},
   "outputs": [],
   "source": [
    "median = MedianBaselineModel()\n",
    "page_rank = PageRankModel()"
   ]
  },
  {
   "cell_type": "code",
   "execution_count": 7,
   "id": "e48c48a2-562b-48cc-acd8-df4b0e6f9bb8",
   "metadata": {},
   "outputs": [
    {
     "name": "stderr",
     "output_type": "stream",
     "text": [
      "Evaluation fold: 100%|████████████████████████████| 5/5 [00:00<00:00,  7.23it/s]\n"
     ]
    },
    {
     "data": {
      "text/plain": [
       "{'rmse': 1.386735155362442,\n",
       " 'mae': 1.025493171471927,\n",
       " 'accuracy': 0.3016691957511381,\n",
       " 'f1': 0.16770790914958095,\n",
       " 'precision': 0.24243918843335005,\n",
       " 'recall': 0.21138215627076407,\n",
       " 'AP@1': 0.003964587548254825,\n",
       " 'AP@3': 0.003594233094732879,\n",
       " 'AP@K': 0.00321758720077778,\n",
       " 'MAP@K': 0.003311353789938141}"
      ]
     },
     "execution_count": 7,
     "metadata": {},
     "output_type": "execute_result"
    }
   ],
   "source": [
    "median.evaluate(review_df,user_df,business_df)\n"
   ]
  },
  {
   "cell_type": "code",
   "execution_count": 8,
   "id": "afe618a8-f42d-43d2-b35b-143867ddc489",
   "metadata": {},
   "outputs": [
    {
     "name": "stderr",
     "output_type": "stream",
     "text": [
      "Evaluation fold: 100%|████████████████████████████| 5/5 [03:43<00:00, 44.77s/it]\n"
     ]
    },
    {
     "data": {
      "text/plain": [
       "{'rmse': 3.085178745843936,\n",
       " 'mae': 2.8106221547799697,\n",
       " 'accuracy': 0.09074355083459787,\n",
       " 'f1': 0.03318140671692239,\n",
       " 'precision': 0.8181487101669196,\n",
       " 'recall': 0.2,\n",
       " 'AP@1': 0.004118349848900133,\n",
       " 'AP@3': 0.002449837348526524,\n",
       " 'AP@K': 0.0017478366139083794,\n",
       " 'MAP@K': 0.0022976614139585596}"
      ]
     },
     "execution_count": 8,
     "metadata": {},
     "output_type": "execute_result"
    }
   ],
   "source": [
    "page_rank.evaluate(review_df,user_df,business_df)\n"
   ]
  },
  {
   "cell_type": "code",
   "execution_count": null,
   "id": "92c16bed-c4e0-4067-8e96-f4fd7f0d84f9",
   "metadata": {},
   "outputs": [],
   "source": []
  }
 ],
 "metadata": {
  "kernelspec": {
   "display_name": "Python 3 (ipykernel)",
   "language": "python",
   "name": "python3"
  },
  "language_info": {
   "codemirror_mode": {
    "name": "ipython",
    "version": 3
   },
   "file_extension": ".py",
   "mimetype": "text/x-python",
   "name": "python",
   "nbconvert_exporter": "python",
   "pygments_lexer": "ipython3",
   "version": "3.10.14"
  }
 },
 "nbformat": 4,
 "nbformat_minor": 5
}
