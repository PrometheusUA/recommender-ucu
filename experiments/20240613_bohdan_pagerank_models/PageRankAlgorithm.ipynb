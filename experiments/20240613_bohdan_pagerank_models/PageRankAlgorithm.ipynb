{
 "cells": [
  {
   "cell_type": "code",
   "execution_count": 1,
   "id": "0788eb22-1928-4678-ad20-48df250cbadd",
   "metadata": {},
   "outputs": [],
   "source": [
    "import os\n",
    "import pandas as pd\n",
    "\n",
    "import numpy as np\n",
    "\n",
    "import sys\n",
    "sys.path.append('../../')\n",
    "from src.models._base import BaseModel\n",
    "from src.utils import read_json_df\n",
    "import random\n",
    "from typing import Iterable, Union\n",
    "import networkx as nx\n",
    "import sklearn.metrics.pairwise\n",
    "from scipy import sparse\n",
    "import warnings\n",
    "\n",
    "from src.models.median_baseline import MedianBaselineModel\n",
    "\n",
    "from src.models.page_rank import PageRankModel\n",
    "median = MedianBaselineModel()\n",
    "page_rank = PageRankModel()\n",
    "\n",
    "\n",
    "warnings.filterwarnings(\"ignore\")"
   ]
  },
  {
   "cell_type": "code",
   "execution_count": 2,
   "id": "4f2e23bb-272f-4d79-906c-d6cdde46fd13",
   "metadata": {},
   "outputs": [],
   "source": [
    "review_df = read_json_df(\"../../data/yelp_dataset/yelp_academic_dataset_review.json\")\n"
   ]
  },
  {
   "cell_type": "code",
   "execution_count": 3,
   "id": "fde96a4d-f9cb-435c-a94a-51f9cd6324c8",
   "metadata": {},
   "outputs": [],
   "source": [
    "user_df = read_json_df(\"../../data/yelp_dataset/yelp_academic_dataset_user.json\")\n"
   ]
  },
  {
   "cell_type": "code",
   "execution_count": 4,
   "id": "b69bbf3f-4742-495a-90e2-066051b3a594",
   "metadata": {},
   "outputs": [],
   "source": [
    "business_df = read_json_df(\"../../data/yelp_dataset/yelp_academic_dataset_business.json\")"
   ]
  },
  {
   "cell_type": "code",
   "execution_count": 5,
   "id": "e473849c-2eaa-4f03-876d-e45b297cf1b2",
   "metadata": {},
   "outputs": [
    {
     "data": {
      "text/plain": [
       "50000"
      ]
     },
     "execution_count": 5,
     "metadata": {},
     "output_type": "execute_result"
    }
   ],
   "source": [
    "len(random.sample(list(review_df.business_id.unique()),50000))"
   ]
  },
  {
   "cell_type": "markdown",
   "id": "75cfb7bd-bfa9-4a2d-8ec2-a7ecfdedda1d",
   "metadata": {},
   "source": [
    "### Let's took 10k users and 10k bussiness from our dataset only"
   ]
  },
  {
   "cell_type": "code",
   "execution_count": 6,
   "id": "92e0f804-1dcf-4683-90d8-cc80a2d0007e",
   "metadata": {},
   "outputs": [],
   "source": [
    "\n",
    "review_df = review_df[review_df.business_id.isin(random.sample(list(review_df.business_id.unique()),10000))]\n",
    "review_df = review_df[review_df.user_id.isin(random.sample(list(review_df.user_id.to_list()),1000))]\n",
    "review_df = review_df.groupby(['user_id','business_id']).agg({'stars':'last','date':'last'}).reset_index() # Drop Duplicates\n"
   ]
  },
  {
   "cell_type": "code",
   "execution_count": 7,
   "id": "5241e968-d352-476d-b85a-2e8264d0f1f8",
   "metadata": {},
   "outputs": [
    {
     "data": {
      "text/html": [
       "<div>\n",
       "<style scoped>\n",
       "    .dataframe tbody tr th:only-of-type {\n",
       "        vertical-align: middle;\n",
       "    }\n",
       "\n",
       "    .dataframe tbody tr th {\n",
       "        vertical-align: top;\n",
       "    }\n",
       "\n",
       "    .dataframe thead th {\n",
       "        text-align: right;\n",
       "    }\n",
       "</style>\n",
       "<table border=\"1\" class=\"dataframe\">\n",
       "  <thead>\n",
       "    <tr style=\"text-align: right;\">\n",
       "      <th></th>\n",
       "      <th>user_id</th>\n",
       "      <th>business_id</th>\n",
       "      <th>stars</th>\n",
       "      <th>date</th>\n",
       "    </tr>\n",
       "  </thead>\n",
       "  <tbody>\n",
       "    <tr>\n",
       "      <th>0</th>\n",
       "      <td>-3s52C4zL_DHRK0ULG6qtg</td>\n",
       "      <td>-PKjA_-bWOD0zj2SPH3ZLA</td>\n",
       "      <td>4.0</td>\n",
       "      <td>2014-01-28 17:45:34</td>\n",
       "    </tr>\n",
       "    <tr>\n",
       "      <th>1</th>\n",
       "      <td>-3s52C4zL_DHRK0ULG6qtg</td>\n",
       "      <td>-kqjc8DxxRac4cz2qTKCLw</td>\n",
       "      <td>4.0</td>\n",
       "      <td>2014-09-04 02:45:20</td>\n",
       "    </tr>\n",
       "    <tr>\n",
       "      <th>2</th>\n",
       "      <td>-3s52C4zL_DHRK0ULG6qtg</td>\n",
       "      <td>2IahpaBR4U2Kdy9HF28EQA</td>\n",
       "      <td>2.0</td>\n",
       "      <td>2011-05-05 02:53:46</td>\n",
       "    </tr>\n",
       "    <tr>\n",
       "      <th>3</th>\n",
       "      <td>-3s52C4zL_DHRK0ULG6qtg</td>\n",
       "      <td>33JlrWf0kmHd2VzW58Wp0g</td>\n",
       "      <td>3.0</td>\n",
       "      <td>2016-03-07 16:28:38</td>\n",
       "    </tr>\n",
       "    <tr>\n",
       "      <th>4</th>\n",
       "      <td>-3s52C4zL_DHRK0ULG6qtg</td>\n",
       "      <td>4nHVKuS6Ew9uAtLVtEw7Ww</td>\n",
       "      <td>2.0</td>\n",
       "      <td>2013-10-09 02:13:07</td>\n",
       "    </tr>\n",
       "    <tr>\n",
       "      <th>...</th>\n",
       "      <td>...</td>\n",
       "      <td>...</td>\n",
       "      <td>...</td>\n",
       "      <td>...</td>\n",
       "    </tr>\n",
       "    <tr>\n",
       "      <th>3845</th>\n",
       "      <td>zwXmvn1op5LuFF2Kveqaug</td>\n",
       "      <td>Yw-guSo-TKY3YbRrq0PELQ</td>\n",
       "      <td>3.0</td>\n",
       "      <td>2016-09-04 23:06:50</td>\n",
       "    </tr>\n",
       "    <tr>\n",
       "      <th>3846</th>\n",
       "      <td>zwXmvn1op5LuFF2Kveqaug</td>\n",
       "      <td>b13EoceGelGyrIPRxxiERQ</td>\n",
       "      <td>4.0</td>\n",
       "      <td>2016-06-27 20:53:37</td>\n",
       "    </tr>\n",
       "    <tr>\n",
       "      <th>3847</th>\n",
       "      <td>zwXmvn1op5LuFF2Kveqaug</td>\n",
       "      <td>mGy0KzmeGIECUL0nZXUV0g</td>\n",
       "      <td>5.0</td>\n",
       "      <td>2016-01-24 20:12:19</td>\n",
       "    </tr>\n",
       "    <tr>\n",
       "      <th>3848</th>\n",
       "      <td>zwXmvn1op5LuFF2Kveqaug</td>\n",
       "      <td>msnm4l6xGcCDrPrjDzUVbQ</td>\n",
       "      <td>5.0</td>\n",
       "      <td>2018-12-04 00:12:14</td>\n",
       "    </tr>\n",
       "    <tr>\n",
       "      <th>3849</th>\n",
       "      <td>zwXmvn1op5LuFF2Kveqaug</td>\n",
       "      <td>xo5jnECyqPcvqJsAXlhIDQ</td>\n",
       "      <td>5.0</td>\n",
       "      <td>2018-06-24 14:06:48</td>\n",
       "    </tr>\n",
       "  </tbody>\n",
       "</table>\n",
       "<p>3850 rows × 4 columns</p>\n",
       "</div>"
      ],
      "text/plain": [
       "                     user_id             business_id  stars  \\\n",
       "0     -3s52C4zL_DHRK0ULG6qtg  -PKjA_-bWOD0zj2SPH3ZLA    4.0   \n",
       "1     -3s52C4zL_DHRK0ULG6qtg  -kqjc8DxxRac4cz2qTKCLw    4.0   \n",
       "2     -3s52C4zL_DHRK0ULG6qtg  2IahpaBR4U2Kdy9HF28EQA    2.0   \n",
       "3     -3s52C4zL_DHRK0ULG6qtg  33JlrWf0kmHd2VzW58Wp0g    3.0   \n",
       "4     -3s52C4zL_DHRK0ULG6qtg  4nHVKuS6Ew9uAtLVtEw7Ww    2.0   \n",
       "...                      ...                     ...    ...   \n",
       "3845  zwXmvn1op5LuFF2Kveqaug  Yw-guSo-TKY3YbRrq0PELQ    3.0   \n",
       "3846  zwXmvn1op5LuFF2Kveqaug  b13EoceGelGyrIPRxxiERQ    4.0   \n",
       "3847  zwXmvn1op5LuFF2Kveqaug  mGy0KzmeGIECUL0nZXUV0g    5.0   \n",
       "3848  zwXmvn1op5LuFF2Kveqaug  msnm4l6xGcCDrPrjDzUVbQ    5.0   \n",
       "3849  zwXmvn1op5LuFF2Kveqaug  xo5jnECyqPcvqJsAXlhIDQ    5.0   \n",
       "\n",
       "                     date  \n",
       "0     2014-01-28 17:45:34  \n",
       "1     2014-09-04 02:45:20  \n",
       "2     2011-05-05 02:53:46  \n",
       "3     2016-03-07 16:28:38  \n",
       "4     2013-10-09 02:13:07  \n",
       "...                   ...  \n",
       "3845  2016-09-04 23:06:50  \n",
       "3846  2016-06-27 20:53:37  \n",
       "3847  2016-01-24 20:12:19  \n",
       "3848  2018-12-04 00:12:14  \n",
       "3849  2018-06-24 14:06:48  \n",
       "\n",
       "[3850 rows x 4 columns]"
      ]
     },
     "execution_count": 7,
     "metadata": {},
     "output_type": "execute_result"
    }
   ],
   "source": [
    "review_df\n"
   ]
  },
  {
   "cell_type": "code",
   "execution_count": 8,
   "id": "4ba21941-8803-4e9f-9030-3c97f157d2e3",
   "metadata": {},
   "outputs": [],
   "source": [
    "user_df = user_df[user_df.user_id.isin(review_df.user_id.unique())]\n",
    "business_df = business_df[business_df.business_id.isin(review_df.business_id.unique())]\n"
   ]
  },
  {
   "cell_type": "code",
   "execution_count": 9,
   "id": "63112a98-54c5-4317-b651-ed452b6f5ad4",
   "metadata": {},
   "outputs": [],
   "source": [
    "median = MedianBaselineModel()\n",
    "page_rank = PageRankModel()"
   ]
  },
  {
   "cell_type": "code",
   "execution_count": 10,
   "id": "e48c48a2-562b-48cc-acd8-df4b0e6f9bb8",
   "metadata": {},
   "outputs": [
    {
     "name": "stderr",
     "output_type": "stream",
     "text": [
      "Evaluation fold: 100%|████████████████████████████| 5/5 [00:00<00:00,  7.64it/s]\n"
     ]
    },
    {
     "data": {
      "text/plain": [
       "{'rmse': 1.2881948412916775,\n",
       " 'mae': 0.947581903276131,\n",
       " 'accuracy': 0.3235569422776911,\n",
       " 'f1': 0.18088168992869846,\n",
       " 'precision': 0.3018601751687772,\n",
       " 'recall': 0.2203507681397158,\n",
       " 'AP@1': 0.005148477799339869,\n",
       " 'AP@3': 0.004673361440602819,\n",
       " 'AP@K': 0.004324819576974748,\n",
       " 'MAP@K': 0.004492821908112515}"
      ]
     },
     "execution_count": 10,
     "metadata": {},
     "output_type": "execute_result"
    }
   ],
   "source": [
    "median.evaluate(review_df,user_df,business_df)\n"
   ]
  },
  {
   "cell_type": "code",
   "execution_count": null,
   "id": "afe618a8-f42d-43d2-b35b-143867ddc489",
   "metadata": {},
   "outputs": [
    {
     "name": "stderr",
     "output_type": "stream",
     "text": [
      "Evaluation fold:  80%|██████████████████████▍     | 4/5 [01:18<00:26, 26.02s/it]"
     ]
    }
   ],
   "source": [
    "page_rank.evaluate(review_df,user_df,business_df)\n"
   ]
  },
  {
   "cell_type": "code",
   "execution_count": null,
   "id": "92c16bed-c4e0-4067-8e96-f4fd7f0d84f9",
   "metadata": {},
   "outputs": [],
   "source": []
  }
 ],
 "metadata": {
  "kernelspec": {
   "display_name": "Python 3 (ipykernel)",
   "language": "python",
   "name": "python3"
  },
  "language_info": {
   "codemirror_mode": {
    "name": "ipython",
    "version": 3
   },
   "file_extension": ".py",
   "mimetype": "text/x-python",
   "name": "python",
   "nbconvert_exporter": "python",
   "pygments_lexer": "ipython3",
   "version": "3.10.14"
  }
 },
 "nbformat": 4,
 "nbformat_minor": 5
}
