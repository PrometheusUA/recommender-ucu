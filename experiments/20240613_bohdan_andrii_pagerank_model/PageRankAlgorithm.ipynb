{
 "cells": [
  {
   "cell_type": "code",
   "execution_count": 1,
   "id": "0788eb22-1928-4678-ad20-48df250cbadd",
   "metadata": {},
   "outputs": [],
   "source": [
    "import sys\n",
    "sys.path.append('../../')\n",
    "import random\n",
    "import warnings\n",
    "\n",
    "from src.utils import read_json_df\n",
    "from src.models.median_baseline import MedianBaselineModel\n",
    "from src.models.page_rank import PageRankModel\n",
    "\n",
    "warnings.filterwarnings(\"ignore\")"
   ]
  },
  {
   "cell_type": "code",
   "execution_count": 2,
   "id": "4f2e23bb-272f-4d79-906c-d6cdde46fd13",
   "metadata": {},
   "outputs": [],
   "source": [
    "review_df = read_json_df(\"../../data/yelp_dataset/yelp_academic_dataset_review.json\")\n",
    "user_df = read_json_df(\"../../data/yelp_dataset/yelp_academic_dataset_user.json\")\n",
    "business_df = read_json_df(\"../../data/yelp_dataset/yelp_academic_dataset_business.json\")"
   ]
  },
  {
   "cell_type": "markdown",
   "id": "75cfb7bd-bfa9-4a2d-8ec2-a7ecfdedda1d",
   "metadata": {},
   "source": [
    "### Let's took 10k users and 10k bussiness from our dataset only"
   ]
  },
  {
   "cell_type": "code",
   "execution_count": 3,
   "id": "3d64419b",
   "metadata": {},
   "outputs": [],
   "source": [
    "BUSINESS_COUNT = 10_000\n",
    "USERS_COUNT = 10_000"
   ]
  },
  {
   "cell_type": "code",
   "execution_count": 4,
   "id": "92e0f804-1dcf-4683-90d8-cc80a2d0007e",
   "metadata": {},
   "outputs": [],
   "source": [
    "review_df = review_df[review_df.business_id.isin(random.sample(list(review_df.business_id.unique()), BUSINESS_COUNT))]\n",
    "review_df = review_df[review_df.user_id.isin(random.sample(list(review_df.user_id.to_list()), USERS_COUNT))]\n",
    "review_df = review_df.groupby(['user_id','business_id']).agg({'stars':'last','date':'last'}).reset_index() # Drop Duplicates\n"
   ]
  },
  {
   "cell_type": "code",
   "execution_count": 5,
   "id": "5241e968-d352-476d-b85a-2e8264d0f1f8",
   "metadata": {},
   "outputs": [
    {
     "data": {
      "text/html": [
       "<div>\n",
       "<style scoped>\n",
       "    .dataframe tbody tr th:only-of-type {\n",
       "        vertical-align: middle;\n",
       "    }\n",
       "\n",
       "    .dataframe tbody tr th {\n",
       "        vertical-align: top;\n",
       "    }\n",
       "\n",
       "    .dataframe thead th {\n",
       "        text-align: right;\n",
       "    }\n",
       "</style>\n",
       "<table border=\"1\" class=\"dataframe\">\n",
       "  <thead>\n",
       "    <tr style=\"text-align: right;\">\n",
       "      <th></th>\n",
       "      <th>user_id</th>\n",
       "      <th>business_id</th>\n",
       "      <th>stars</th>\n",
       "      <th>date</th>\n",
       "    </tr>\n",
       "  </thead>\n",
       "  <tbody>\n",
       "    <tr>\n",
       "      <th>0</th>\n",
       "      <td>--Al1VYjHegnOfTVotCHFw</td>\n",
       "      <td>2CrM7eYAT_vnEQnd2zTf6Q</td>\n",
       "      <td>1.0</td>\n",
       "      <td>2014-05-23 03:32:46</td>\n",
       "    </tr>\n",
       "    <tr>\n",
       "      <th>1</th>\n",
       "      <td>--Al1VYjHegnOfTVotCHFw</td>\n",
       "      <td>YSgcojsb2kWHXNLWaGCuBA</td>\n",
       "      <td>1.0</td>\n",
       "      <td>2013-04-05 10:17:45</td>\n",
       "    </tr>\n",
       "    <tr>\n",
       "      <th>2</th>\n",
       "      <td>--JfSCDuT5nsXCosHl5-IA</td>\n",
       "      <td>LTyQL15LCWxxKLfWn2hXRw</td>\n",
       "      <td>3.0</td>\n",
       "      <td>2021-12-02 03:52:28</td>\n",
       "    </tr>\n",
       "    <tr>\n",
       "      <th>3</th>\n",
       "      <td>--JfSCDuT5nsXCosHl5-IA</td>\n",
       "      <td>hjts5I-AFBjhNIeJuyU8ZQ</td>\n",
       "      <td>5.0</td>\n",
       "      <td>2021-12-02 03:36:26</td>\n",
       "    </tr>\n",
       "    <tr>\n",
       "      <th>4</th>\n",
       "      <td>--boIvT3InggHeH9mdTDyg</td>\n",
       "      <td>84ju1Hu8GsWU3us-7cCHng</td>\n",
       "      <td>5.0</td>\n",
       "      <td>2019-09-14 04:10:27</td>\n",
       "    </tr>\n",
       "    <tr>\n",
       "      <th>...</th>\n",
       "      <td>...</td>\n",
       "      <td>...</td>\n",
       "      <td>...</td>\n",
       "      <td>...</td>\n",
       "    </tr>\n",
       "    <tr>\n",
       "      <th>32439</th>\n",
       "      <td>zyGacmY4VUKEwqFS5lfHjQ</td>\n",
       "      <td>pOPOf0mnfLBCoqid_z19zg</td>\n",
       "      <td>4.0</td>\n",
       "      <td>2015-12-27 20:39:48</td>\n",
       "    </tr>\n",
       "    <tr>\n",
       "      <th>32440</th>\n",
       "      <td>zySfwbIHPNhLR8-JiqGdWA</td>\n",
       "      <td>JC1p7xrsv5HhWPfh4fpt2g</td>\n",
       "      <td>5.0</td>\n",
       "      <td>2012-11-01 19:19:48</td>\n",
       "    </tr>\n",
       "    <tr>\n",
       "      <th>32441</th>\n",
       "      <td>zySfwbIHPNhLR8-JiqGdWA</td>\n",
       "      <td>OO-bjy2WcEV4QOWljp9_3A</td>\n",
       "      <td>3.0</td>\n",
       "      <td>2013-03-22 19:38:03</td>\n",
       "    </tr>\n",
       "    <tr>\n",
       "      <th>32442</th>\n",
       "      <td>zySfwbIHPNhLR8-JiqGdWA</td>\n",
       "      <td>vEdNsFx-ozYFNxR9XZQ5AA</td>\n",
       "      <td>1.0</td>\n",
       "      <td>2016-12-04 21:00:24</td>\n",
       "    </tr>\n",
       "    <tr>\n",
       "      <th>32443</th>\n",
       "      <td>zz3p_CkANDJpvGhwdGnsiw</td>\n",
       "      <td>ztq4yuENNr6nNVb4vyTkpQ</td>\n",
       "      <td>5.0</td>\n",
       "      <td>2021-10-11 00:43:49</td>\n",
       "    </tr>\n",
       "  </tbody>\n",
       "</table>\n",
       "<p>32444 rows × 4 columns</p>\n",
       "</div>"
      ],
      "text/plain": [
       "                      user_id             business_id  stars  \\\n",
       "0      --Al1VYjHegnOfTVotCHFw  2CrM7eYAT_vnEQnd2zTf6Q    1.0   \n",
       "1      --Al1VYjHegnOfTVotCHFw  YSgcojsb2kWHXNLWaGCuBA    1.0   \n",
       "2      --JfSCDuT5nsXCosHl5-IA  LTyQL15LCWxxKLfWn2hXRw    3.0   \n",
       "3      --JfSCDuT5nsXCosHl5-IA  hjts5I-AFBjhNIeJuyU8ZQ    5.0   \n",
       "4      --boIvT3InggHeH9mdTDyg  84ju1Hu8GsWU3us-7cCHng    5.0   \n",
       "...                       ...                     ...    ...   \n",
       "32439  zyGacmY4VUKEwqFS5lfHjQ  pOPOf0mnfLBCoqid_z19zg    4.0   \n",
       "32440  zySfwbIHPNhLR8-JiqGdWA  JC1p7xrsv5HhWPfh4fpt2g    5.0   \n",
       "32441  zySfwbIHPNhLR8-JiqGdWA  OO-bjy2WcEV4QOWljp9_3A    3.0   \n",
       "32442  zySfwbIHPNhLR8-JiqGdWA  vEdNsFx-ozYFNxR9XZQ5AA    1.0   \n",
       "32443  zz3p_CkANDJpvGhwdGnsiw  ztq4yuENNr6nNVb4vyTkpQ    5.0   \n",
       "\n",
       "                      date  \n",
       "0      2014-05-23 03:32:46  \n",
       "1      2013-04-05 10:17:45  \n",
       "2      2021-12-02 03:52:28  \n",
       "3      2021-12-02 03:36:26  \n",
       "4      2019-09-14 04:10:27  \n",
       "...                    ...  \n",
       "32439  2015-12-27 20:39:48  \n",
       "32440  2012-11-01 19:19:48  \n",
       "32441  2013-03-22 19:38:03  \n",
       "32442  2016-12-04 21:00:24  \n",
       "32443  2021-10-11 00:43:49  \n",
       "\n",
       "[32444 rows x 4 columns]"
      ]
     },
     "execution_count": 5,
     "metadata": {},
     "output_type": "execute_result"
    }
   ],
   "source": [
    "review_df\n"
   ]
  },
  {
   "cell_type": "code",
   "execution_count": 6,
   "id": "4ba21941-8803-4e9f-9030-3c97f157d2e3",
   "metadata": {},
   "outputs": [],
   "source": [
    "user_df = user_df[user_df.user_id.isin(review_df.user_id.unique())]\n",
    "business_df = business_df[business_df.business_id.isin(review_df.business_id.unique())]\n"
   ]
  },
  {
   "cell_type": "code",
   "execution_count": 7,
   "id": "63112a98-54c5-4317-b651-ed452b6f5ad4",
   "metadata": {},
   "outputs": [],
   "source": [
    "median = MedianBaselineModel()\n",
    "page_rank = PageRankModel()"
   ]
  },
  {
   "cell_type": "code",
   "execution_count": 8,
   "id": "e48c48a2-562b-48cc-acd8-df4b0e6f9bb8",
   "metadata": {},
   "outputs": [
    {
     "name": "stderr",
     "output_type": "stream",
     "text": [
      "Evaluation fold: 100%|██████████| 5/5 [00:03<00:00,  1.35it/s]\n"
     ]
    },
    {
     "data": {
      "text/plain": [
       "{'rmse': 1.3489229052056355,\n",
       " 'mae': 0.9811326775878216,\n",
       " 'accuracy': 0.3264783165325829,\n",
       " 'f1': 0.2203983230457281,\n",
       " 'precision': 0.30530308667950007,\n",
       " 'recall': 0.2417354680151745,\n",
       " 'AP@1': 0.00039933796687489475,\n",
       " 'AP@3': 0.000583267607481578,\n",
       " 'AP@K': 0.0006282545926384267,\n",
       " 'MAP@K': 0.0005768624921253029}"
      ]
     },
     "execution_count": 8,
     "metadata": {},
     "output_type": "execute_result"
    }
   ],
   "source": [
    "median.evaluate(review_df, user_df, business_df)\n"
   ]
  },
  {
   "cell_type": "code",
   "execution_count": 9,
   "id": "c629831d",
   "metadata": {},
   "outputs": [
    {
     "name": "stderr",
     "output_type": "stream",
     "text": [
      "Evaluation fold: 100%|██████████| 5/5 [23:40<00:00, 284.11s/it]\n"
     ]
    },
    {
     "data": {
      "text/plain": [
       "{'rmse': 1.3434869171565136,\n",
       " 'mae': 0.9996442850004174,\n",
       " 'accuracy': 0.3158254659677467,\n",
       " 'f1': 0.2128919760171582,\n",
       " 'precision': 0.3088772054239886,\n",
       " 'recall': 0.2389049117613758,\n",
       " 'AP@1': 0.007664369850086843,\n",
       " 'AP@3': 0.009088633666571885,\n",
       " 'AP@K': 0.006609825972425323,\n",
       " 'MAP@K': 0.007879189184549207}"
      ]
     },
     "execution_count": 9,
     "metadata": {},
     "output_type": "execute_result"
    }
   ],
   "source": [
    "page_rank.evaluate(review_df, user_df, business_df)"
   ]
  },
  {
   "cell_type": "code",
   "execution_count": null,
   "id": "fc19a94b",
   "metadata": {},
   "outputs": [],
   "source": []
  }
 ],
 "metadata": {
  "kernelspec": {
   "display_name": "Python 3 (ipykernel)",
   "language": "python",
   "name": "python3"
  },
  "language_info": {
   "codemirror_mode": {
    "name": "ipython",
    "version": 3
   },
   "file_extension": ".py",
   "mimetype": "text/x-python",
   "name": "python",
   "nbconvert_exporter": "python",
   "pygments_lexer": "ipython3",
   "version": "3.11.5"
  }
 },
 "nbformat": 4,
 "nbformat_minor": 5
}
