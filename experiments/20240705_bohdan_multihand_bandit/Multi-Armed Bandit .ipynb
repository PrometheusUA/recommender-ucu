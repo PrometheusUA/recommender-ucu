{
 "cells": [
  {
   "cell_type": "markdown",
   "id": "8f910e48",
   "metadata": {},
   "source": [
    "### Ranking recommendation algorithms using Multi-Armed Bandit \n",
    "\n",
    "Multi-Armed Bandit has many application methods; one of the main ones is a ranking system built using this algorithm.\n",
    "\n",
    "In this case, we can imagine each recommendation algorithm as an unknown distribution that returns a value depending on the algorithm's accuracy.\n",
    "\n",
    "\n",
    "I decided to use Slate Bandit Framework with top k = 1, which means we will show recommendations from only one recomender system simultaneously.\n",
    "\n",
    "In the case of top_k > 1, we could decide that the combination of models is our arm, but this could increase the number of arms exponentially, so be careful. \n",
    "\n",
    "\n",
    "There are a large number of methods you can use to determine the accuracy of a recommender system. I will use the following one.\n",
    "\n",
    "First of all, we will train our models on data up to a certain date, and for simplicity, the models will not be retrained until the end of the simulation.\n",
    "\n",
    "After that, we will select a random user and conduct testing on him.\n",
    "\n",
    "Next, we will go through orders NOT used for model training in chronological order and determine which arms recommended this facility.\n",
    "\n",
    "For those arms that could guess the next institution, we will give $(star rating - 2.5) ** 3 / sqrt(rank_n)$,\n",
    "where star_rating is the rating given by the guest, and rank_n is the order of this institution in the recommendation system. For other systems, we put 0.\n",
    "\n",
    "*We can change the rating system as needed.\n",
    "\n",
    "After a guest visits each restaurant, we will change the order of our recommendation systems according to bandit choice. However, since our system is static, changing the order will not affect which restaurants the guest visits.\n",
    "\n",
    "So, to solve this problem, we will also calculate a score for each Bandit. The Bandit will receive points only if the user visits a facility recommended by his arm.\n",
    "\n",
    "The Bandit with the biggest score is the best one.\n",
    "\n"
   ]
  },
  {
   "cell_type": "code",
   "execution_count": 1,
   "id": "ec9a9543",
   "metadata": {},
   "outputs": [],
   "source": [
    "%load_ext autoreload\n",
    "%autoreload 2"
   ]
  },
  {
   "cell_type": "code",
   "execution_count": 8,
   "id": "f1ae266a",
   "metadata": {},
   "outputs": [],
   "source": [
    "import sys\n",
    "sys.path.append('../../')\n",
    "import random\n",
    "import warnings\n",
    "\n",
    "from src.utils import read_json_df\n",
    "from src.models.median_baseline import MedianBaselineModel\n",
    "from src.models.page_rank import PageRankModel\n",
    "import pandas as pd\n",
    "from bandit import GreadyBandit,ThompsonBandit\n",
    "warnings.filterwarnings(\"ignore\")"
   ]
  },
  {
   "cell_type": "code",
   "execution_count": 3,
   "id": "ac81eb78",
   "metadata": {},
   "outputs": [],
   "source": [
    "review_df = read_json_df(\"../../data/yelp_dataset/yelp_academic_dataset_review.json\")\n",
    "user_df = read_json_df(\"../../data/yelp_dataset/yelp_academic_dataset_user.json\")\n",
    "business_df = read_json_df(\"../../data/yelp_dataset/yelp_academic_dataset_business.json\")"
   ]
  },
  {
   "cell_type": "code",
   "execution_count": 4,
   "id": "1e8a9454",
   "metadata": {},
   "outputs": [],
   "source": [
    "review_df['date'] = pd.to_datetime(review_df['date'])\n",
    "review_df = review_df[review_df.date < pd.to_datetime('2008-01-01')]\n",
    "user_df = user_df[user_df.user_id.isin(review_df.user_id.unique())]\n",
    "business_df = business_df[business_df.business_id.isin(review_df.business_id.unique())]"
   ]
  },
  {
   "cell_type": "code",
   "execution_count": 5,
   "id": "1ae2cee5",
   "metadata": {},
   "outputs": [
    {
     "data": {
      "text/plain": [
       "Timestamp('2005-02-16 03:23:22')"
      ]
     },
     "execution_count": 5,
     "metadata": {},
     "output_type": "execute_result"
    }
   ],
   "source": [
    "review_df.date.min()"
   ]
  },
  {
   "cell_type": "code",
   "execution_count": 6,
   "id": "91fabee2",
   "metadata": {},
   "outputs": [],
   "source": [
    "date = pd.to_datetime('2007-01-01')\n",
    "user_ids = list(review_df.user_id.unique())\n",
    "N = 100"
   ]
  },
  {
   "cell_type": "code",
   "execution_count": 14,
   "id": "24f8530b",
   "metadata": {},
   "outputs": [
    {
     "name": "stdout",
     "output_type": "stream",
     "text": [
      "START FITTING A MODEL\n",
      "MODEL IS FITTED\n",
      "START FITTING A MODEL\n",
      "MODEL IS FITTED\n"
     ]
    }
   ],
   "source": [
    "# Train model only ones for all bandits, to be sure that the models are similar\n",
    "models = [MedianBaselineModel(),PageRankModel()]\n",
    "bandit_gready = GreadyBandit(models,business_df,review_df,user_df,N)\n",
    "bandit_gready.train_models(date)"
   ]
  },
  {
   "cell_type": "code",
   "execution_count": 15,
   "id": "8fdcb8ba",
   "metadata": {},
   "outputs": [
    {
     "name": "stderr",
     "output_type": "stream",
     "text": [
      "15363it [00:13, 1125.16it/s]\n"
     ]
    }
   ],
   "source": [
    "ranks = bandit_gready.simulate_data(user_ids,date)"
   ]
  },
  {
   "cell_type": "code",
   "execution_count": 16,
   "id": "ea1a361d",
   "metadata": {},
   "outputs": [],
   "source": [
    "bandit_thompson = ThompsonBandit(models,business_df,review_df,user_df,N)"
   ]
  },
  {
   "cell_type": "code",
   "execution_count": 17,
   "id": "d9eacbd3",
   "metadata": {},
   "outputs": [
    {
     "name": "stderr",
     "output_type": "stream",
     "text": [
      "15363it [00:14, 1071.93it/s]\n"
     ]
    }
   ],
   "source": [
    "ranks = bandit_thompson.simulate_data(user_ids,date)"
   ]
  },
  {
   "cell_type": "code",
   "execution_count": 18,
   "id": "4028221b",
   "metadata": {},
   "outputs": [
    {
     "data": {
      "text/plain": [
       "(652.3738886456875, 649.9371484429024)"
      ]
     },
     "execution_count": 18,
     "metadata": {},
     "output_type": "execute_result"
    }
   ],
   "source": [
    "bandit_thompson.bandit_score,bandit_gready.bandit_score"
   ]
  },
  {
   "cell_type": "markdown",
   "id": "90a1091c",
   "metadata": {},
   "source": [
    "In our case, we can see that the Thompson model performed better because it scored more points.\n",
    "\n",
    "However, as both algorithms are using random it's better to use Hyphothesis testing before tell that one bandit is better.\n"
   ]
  },
  {
   "cell_type": "code",
   "execution_count": 19,
   "id": "2ab3f2f4",
   "metadata": {},
   "outputs": [
    {
     "data": {
      "text/plain": [
       "[555.4222882650068, 652.3738886456875]"
      ]
     },
     "execution_count": 19,
     "metadata": {},
     "output_type": "execute_result"
    }
   ],
   "source": [
    "bandit_thompson.models_score"
   ]
  },
  {
   "cell_type": "code",
   "execution_count": null,
   "id": "b3baa167",
   "metadata": {},
   "outputs": [],
   "source": []
  }
 ],
 "metadata": {
  "kernelspec": {
   "display_name": "Python 3 (ipykernel)",
   "language": "python",
   "name": "python3"
  },
  "language_info": {
   "codemirror_mode": {
    "name": "ipython",
    "version": 3
   },
   "file_extension": ".py",
   "mimetype": "text/x-python",
   "name": "python",
   "nbconvert_exporter": "python",
   "pygments_lexer": "ipython3",
   "version": "3.11.3"
  }
 },
 "nbformat": 4,
 "nbformat_minor": 5
}
